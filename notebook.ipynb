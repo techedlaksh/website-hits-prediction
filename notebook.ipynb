{
 "cells": [
  {
   "cell_type": "code",
   "execution_count": 1,
   "metadata": {},
   "outputs": [
    {
     "name": "stderr",
     "output_type": "stream",
     "text": [
      "/home/laksh/ml/local/lib/python2.7/site-packages/sklearn/ensemble/weight_boosting.py:29: DeprecationWarning: numpy.core.umath_tests is an internal NumPy module and should not be imported. It will be removed in a future NumPy release.\n",
      "  from numpy.core.umath_tests import inner1d\n",
      "/home/laksh/ml/local/lib/python2.7/site-packages/sklearn/cross_validation.py:41: DeprecationWarning: This module was deprecated in version 0.18 in favor of the model_selection module into which all the refactored classes and functions are moved. Also note that the interface of the new CV iterators are different from that of this module. This module will be removed in 0.20.\n",
      "  \"This module will be removed in 0.20.\", DeprecationWarning)\n"
     ]
    }
   ],
   "source": [
    "import pandas as pd\n",
    "import numpy as np\n",
    "import matplotlib.pyplot as plt\n",
    "import seaborn as sns\n",
    "import random\n",
    "\n",
    "from sklearn.linear_model import LinearRegression as LR\n",
    "from sklearn.linear_model import LogisticRegression as LogR\n",
    "from sklearn.ensemble import RandomForestRegressor as RFR\n",
    "from sklearn.ensemble import GradientBoostingRegressor as GBR\n",
    "from sklearn.ensemble import AdaBoostRegressor, BaggingRegressor, ExtraTreesRegressor\n",
    "from sklearn.preprocessing import Imputer, LabelEncoder, OneHotEncoder, LabelBinarizer\n",
    "from sklearn.cross_validation import train_test_split, cross_val_predict, cross_val_score\n",
    "from sklearn.metrics import mean_squared_error\n",
    "from math import sqrt\n",
    "import xgboost as xgb\n",
    "\n",
    "%matplotlib inline\n",
    "sns.set()"
   ]
  },
  {
   "cell_type": "code",
   "execution_count": 2,
   "metadata": {
    "collapsed": true
   },
   "outputs": [],
   "source": [
    "df = pd.read_csv('./dataset.csv', sep=';')"
   ]
  },
  {
   "cell_type": "code",
   "execution_count": 3,
   "metadata": {},
   "outputs": [
    {
     "data": {
      "text/html": [
       "<div>\n",
       "<style>\n",
       "    .dataframe thead tr:only-child th {\n",
       "        text-align: right;\n",
       "    }\n",
       "\n",
       "    .dataframe thead th {\n",
       "        text-align: left;\n",
       "    }\n",
       "\n",
       "    .dataframe tbody tr th {\n",
       "        vertical-align: top;\n",
       "    }\n",
       "</style>\n",
       "<table border=\"1\" class=\"dataframe\">\n",
       "  <thead>\n",
       "    <tr style=\"text-align: right;\">\n",
       "      <th></th>\n",
       "      <th>row_num</th>\n",
       "      <th>locale</th>\n",
       "      <th>day_of_week</th>\n",
       "      <th>hour_of_day</th>\n",
       "      <th>agent_id</th>\n",
       "      <th>entry_page</th>\n",
       "      <th>path_id_set</th>\n",
       "      <th>traffic_type</th>\n",
       "      <th>session_durantion</th>\n",
       "      <th>hits</th>\n",
       "    </tr>\n",
       "  </thead>\n",
       "  <tbody>\n",
       "    <tr>\n",
       "      <th>0</th>\n",
       "      <td>988681</td>\n",
       "      <td>L6</td>\n",
       "      <td>Monday</td>\n",
       "      <td>17</td>\n",
       "      <td>1</td>\n",
       "      <td>2111</td>\n",
       "      <td>31672;0</td>\n",
       "      <td>6</td>\n",
       "      <td>7037</td>\n",
       "      <td>\\N</td>\n",
       "    </tr>\n",
       "    <tr>\n",
       "      <th>1</th>\n",
       "      <td>988680</td>\n",
       "      <td>L2</td>\n",
       "      <td>Thursday</td>\n",
       "      <td>22</td>\n",
       "      <td>10</td>\n",
       "      <td>2113</td>\n",
       "      <td>31965;0</td>\n",
       "      <td>2</td>\n",
       "      <td>49</td>\n",
       "      <td>14</td>\n",
       "    </tr>\n",
       "    <tr>\n",
       "      <th>2</th>\n",
       "      <td>988679</td>\n",
       "      <td>L4</td>\n",
       "      <td>Saturday</td>\n",
       "      <td>21</td>\n",
       "      <td>2</td>\n",
       "      <td>2100</td>\n",
       "      <td>0;78464</td>\n",
       "      <td>1</td>\n",
       "      <td>1892</td>\n",
       "      <td>14</td>\n",
       "    </tr>\n",
       "    <tr>\n",
       "      <th>3</th>\n",
       "      <td>988678</td>\n",
       "      <td>L3</td>\n",
       "      <td>Saturday</td>\n",
       "      <td>19</td>\n",
       "      <td>8</td>\n",
       "      <td>2113</td>\n",
       "      <td>51462</td>\n",
       "      <td>6</td>\n",
       "      <td>0</td>\n",
       "      <td>1</td>\n",
       "    </tr>\n",
       "    <tr>\n",
       "      <th>4</th>\n",
       "      <td>988677</td>\n",
       "      <td>L2</td>\n",
       "      <td>Tuesday</td>\n",
       "      <td>6</td>\n",
       "      <td>10</td>\n",
       "      <td>2116</td>\n",
       "      <td>31931;0</td>\n",
       "      <td>1</td>\n",
       "      <td>2</td>\n",
       "      <td>3</td>\n",
       "    </tr>\n",
       "  </tbody>\n",
       "</table>\n",
       "</div>"
      ],
      "text/plain": [
       "   row_num locale day_of_week  hour_of_day  agent_id  entry_page path_id_set  \\\n",
       "0   988681     L6      Monday           17         1        2111     31672;0   \n",
       "1   988680     L2    Thursday           22        10        2113     31965;0   \n",
       "2   988679     L4    Saturday           21         2        2100     0;78464   \n",
       "3   988678     L3    Saturday           19         8        2113       51462   \n",
       "4   988677     L2     Tuesday            6        10        2116     31931;0   \n",
       "\n",
       "   traffic_type session_durantion hits  \n",
       "0             6              7037   \\N  \n",
       "1             2                49   14  \n",
       "2             1              1892   14  \n",
       "3             6                 0    1  \n",
       "4             1                 2    3  "
      ]
     },
     "execution_count": 3,
     "metadata": {},
     "output_type": "execute_result"
    }
   ],
   "source": [
    "df.head()"
   ]
  },
  {
   "cell_type": "code",
   "execution_count": 4,
   "metadata": {},
   "outputs": [
    {
     "data": {
      "text/html": [
       "<div>\n",
       "<style>\n",
       "    .dataframe thead tr:only-child th {\n",
       "        text-align: right;\n",
       "    }\n",
       "\n",
       "    .dataframe thead th {\n",
       "        text-align: left;\n",
       "    }\n",
       "\n",
       "    .dataframe tbody tr th {\n",
       "        vertical-align: top;\n",
       "    }\n",
       "</style>\n",
       "<table border=\"1\" class=\"dataframe\">\n",
       "  <thead>\n",
       "    <tr style=\"text-align: right;\">\n",
       "      <th></th>\n",
       "      <th>row_num</th>\n",
       "      <th>locale</th>\n",
       "      <th>day_of_week</th>\n",
       "      <th>hour_of_day</th>\n",
       "      <th>agent_id</th>\n",
       "      <th>entry_page</th>\n",
       "      <th>path_id_set</th>\n",
       "      <th>traffic_type</th>\n",
       "      <th>session_durantion</th>\n",
       "      <th>hits</th>\n",
       "    </tr>\n",
       "  </thead>\n",
       "  <tbody>\n",
       "    <tr>\n",
       "      <th>988676</th>\n",
       "      <td>5</td>\n",
       "      <td>L2</td>\n",
       "      <td>Tuesday</td>\n",
       "      <td>18</td>\n",
       "      <td>2</td>\n",
       "      <td>2113</td>\n",
       "      <td>44232;0</td>\n",
       "      <td>2</td>\n",
       "      <td>5</td>\n",
       "      <td>\\N</td>\n",
       "    </tr>\n",
       "    <tr>\n",
       "      <th>988677</th>\n",
       "      <td>4</td>\n",
       "      <td>L6</td>\n",
       "      <td>Tuesday</td>\n",
       "      <td>9</td>\n",
       "      <td>6</td>\n",
       "      <td>2113</td>\n",
       "      <td>38715;0;40057;31657</td>\n",
       "      <td>2</td>\n",
       "      <td>35</td>\n",
       "      <td>\\N</td>\n",
       "    </tr>\n",
       "    <tr>\n",
       "      <th>988678</th>\n",
       "      <td>3</td>\n",
       "      <td>L2</td>\n",
       "      <td>Sunday</td>\n",
       "      <td>17</td>\n",
       "      <td>8</td>\n",
       "      <td>2114</td>\n",
       "      <td>15466;0</td>\n",
       "      <td>6</td>\n",
       "      <td>1011</td>\n",
       "      <td>\\N</td>\n",
       "    </tr>\n",
       "    <tr>\n",
       "      <th>988679</th>\n",
       "      <td>2</td>\n",
       "      <td>L3</td>\n",
       "      <td>Monday</td>\n",
       "      <td>17</td>\n",
       "      <td>13</td>\n",
       "      <td>2113</td>\n",
       "      <td>531228;0</td>\n",
       "      <td>2</td>\n",
       "      <td>132</td>\n",
       "      <td>\\N</td>\n",
       "    </tr>\n",
       "    <tr>\n",
       "      <th>988680</th>\n",
       "      <td>1</td>\n",
       "      <td>L4</td>\n",
       "      <td>Thursday</td>\n",
       "      <td>15</td>\n",
       "      <td>1</td>\n",
       "      <td>2116</td>\n",
       "      <td>76673;0</td>\n",
       "      <td>2</td>\n",
       "      <td>4544</td>\n",
       "      <td>18</td>\n",
       "    </tr>\n",
       "  </tbody>\n",
       "</table>\n",
       "</div>"
      ],
      "text/plain": [
       "        row_num locale day_of_week  hour_of_day  agent_id  entry_page  \\\n",
       "988676        5     L2     Tuesday           18         2        2113   \n",
       "988677        4     L6     Tuesday            9         6        2113   \n",
       "988678        3     L2      Sunday           17         8        2114   \n",
       "988679        2     L3      Monday           17        13        2113   \n",
       "988680        1     L4    Thursday           15         1        2116   \n",
       "\n",
       "                path_id_set  traffic_type session_durantion hits  \n",
       "988676              44232;0             2                 5   \\N  \n",
       "988677  38715;0;40057;31657             2                35   \\N  \n",
       "988678              15466;0             6              1011   \\N  \n",
       "988679             531228;0             2               132   \\N  \n",
       "988680              76673;0             2              4544   18  "
      ]
     },
     "execution_count": 4,
     "metadata": {},
     "output_type": "execute_result"
    }
   ],
   "source": [
    "df.tail()"
   ]
  },
  {
   "cell_type": "code",
   "execution_count": 5,
   "metadata": {},
   "outputs": [
    {
     "data": {
      "text/html": [
       "<div>\n",
       "<style>\n",
       "    .dataframe thead tr:only-child th {\n",
       "        text-align: right;\n",
       "    }\n",
       "\n",
       "    .dataframe thead th {\n",
       "        text-align: left;\n",
       "    }\n",
       "\n",
       "    .dataframe tbody tr th {\n",
       "        vertical-align: top;\n",
       "    }\n",
       "</style>\n",
       "<table border=\"1\" class=\"dataframe\">\n",
       "  <thead>\n",
       "    <tr style=\"text-align: right;\">\n",
       "      <th></th>\n",
       "      <th>row_num</th>\n",
       "      <th>locale</th>\n",
       "      <th>day_of_week</th>\n",
       "      <th>hour_of_day</th>\n",
       "      <th>agent_id</th>\n",
       "      <th>entry_page</th>\n",
       "      <th>path_id_set</th>\n",
       "      <th>traffic_type</th>\n",
       "      <th>session_durantion</th>\n",
       "      <th>hits</th>\n",
       "    </tr>\n",
       "  </thead>\n",
       "  <tbody>\n",
       "    <tr>\n",
       "      <th>0</th>\n",
       "      <td>1</td>\n",
       "      <td>L4</td>\n",
       "      <td>Thursday</td>\n",
       "      <td>15</td>\n",
       "      <td>1</td>\n",
       "      <td>2116</td>\n",
       "      <td>76673;0</td>\n",
       "      <td>2</td>\n",
       "      <td>4544</td>\n",
       "      <td>18</td>\n",
       "    </tr>\n",
       "    <tr>\n",
       "      <th>1</th>\n",
       "      <td>2</td>\n",
       "      <td>L3</td>\n",
       "      <td>Monday</td>\n",
       "      <td>17</td>\n",
       "      <td>13</td>\n",
       "      <td>2113</td>\n",
       "      <td>531228;0</td>\n",
       "      <td>2</td>\n",
       "      <td>132</td>\n",
       "      <td>\\N</td>\n",
       "    </tr>\n",
       "    <tr>\n",
       "      <th>2</th>\n",
       "      <td>3</td>\n",
       "      <td>L2</td>\n",
       "      <td>Sunday</td>\n",
       "      <td>17</td>\n",
       "      <td>8</td>\n",
       "      <td>2114</td>\n",
       "      <td>15466;0</td>\n",
       "      <td>6</td>\n",
       "      <td>1011</td>\n",
       "      <td>\\N</td>\n",
       "    </tr>\n",
       "    <tr>\n",
       "      <th>3</th>\n",
       "      <td>4</td>\n",
       "      <td>L6</td>\n",
       "      <td>Tuesday</td>\n",
       "      <td>9</td>\n",
       "      <td>6</td>\n",
       "      <td>2113</td>\n",
       "      <td>38715;0;40057;31657</td>\n",
       "      <td>2</td>\n",
       "      <td>35</td>\n",
       "      <td>\\N</td>\n",
       "    </tr>\n",
       "    <tr>\n",
       "      <th>4</th>\n",
       "      <td>5</td>\n",
       "      <td>L2</td>\n",
       "      <td>Tuesday</td>\n",
       "      <td>18</td>\n",
       "      <td>2</td>\n",
       "      <td>2113</td>\n",
       "      <td>44232;0</td>\n",
       "      <td>2</td>\n",
       "      <td>5</td>\n",
       "      <td>\\N</td>\n",
       "    </tr>\n",
       "  </tbody>\n",
       "</table>\n",
       "</div>"
      ],
      "text/plain": [
       "   row_num locale day_of_week  hour_of_day  agent_id  entry_page  \\\n",
       "0        1     L4    Thursday           15         1        2116   \n",
       "1        2     L3      Monday           17        13        2113   \n",
       "2        3     L2      Sunday           17         8        2114   \n",
       "3        4     L6     Tuesday            9         6        2113   \n",
       "4        5     L2     Tuesday           18         2        2113   \n",
       "\n",
       "           path_id_set  traffic_type session_durantion hits  \n",
       "0              76673;0             2              4544   18  \n",
       "1             531228;0             2               132   \\N  \n",
       "2              15466;0             6              1011   \\N  \n",
       "3  38715;0;40057;31657             2                35   \\N  \n",
       "4              44232;0             2                 5   \\N  "
      ]
     },
     "execution_count": 5,
     "metadata": {},
     "output_type": "execute_result"
    }
   ],
   "source": [
    "df = df.iloc[::-1].reset_index(drop=True)\n",
    "df.head()"
   ]
  },
  {
   "cell_type": "code",
   "execution_count": 6,
   "metadata": {},
   "outputs": [
    {
     "name": "stdout",
     "output_type": "stream",
     "text": [
      "<class 'pandas.core.frame.DataFrame'>\n",
      "RangeIndex: 988681 entries, 0 to 988680\n",
      "Data columns (total 10 columns):\n",
      "row_num              988681 non-null int64\n",
      "locale               988681 non-null object\n",
      "day_of_week          988681 non-null object\n",
      "hour_of_day          988681 non-null int64\n",
      "agent_id             988681 non-null int64\n",
      "entry_page           988681 non-null int64\n",
      "path_id_set          983792 non-null object\n",
      "traffic_type         988681 non-null int64\n",
      "session_durantion    988681 non-null object\n",
      "hits                 988681 non-null object\n",
      "dtypes: int64(5), object(5)\n",
      "memory usage: 75.4+ MB\n"
     ]
    }
   ],
   "source": [
    "df.info()"
   ]
  },
  {
   "cell_type": "code",
   "execution_count": 7,
   "metadata": {},
   "outputs": [
    {
     "name": "stdout",
     "output_type": "stream",
     "text": [
      "Total number of values in 'hits' column: 988681 (100%)\n",
      "Training Values:                         619235 (62.63%)\n",
      "Testing Values:                          369446 (37.37%)\n"
     ]
    }
   ],
   "source": [
    "total_count = df['hits'].count()\n",
    "missing = df['hits'].value_counts()['\\N']\n",
    "useful = total_count - missing\n",
    "\n",
    "print \"Total number of values in 'hits' column: %d (%d%%)\" % (total_count, (total_count/ total_count) * 100)\n",
    "print \"Training Values:                         %d (%.2f%%)\" % (useful, (useful/float(total_count))*100)\n",
    "print \"Testing Values:                          %d (%.2f%%)\" % (missing, (missing/float(total_count))*100)"
   ]
  },
  {
   "cell_type": "code",
   "execution_count": 8,
   "metadata": {
    "collapsed": true
   },
   "outputs": [],
   "source": [
    "# for ix in df['agent_id'].unique():\n",
    "#     print \"###########################################\\n\", ix\n",
    "#     print(df[df['agent_id'] == ix]['hits'].value_counts().sort_index())"
   ]
  },
  {
   "cell_type": "code",
   "execution_count": 9,
   "metadata": {
    "collapsed": true
   },
   "outputs": [],
   "source": [
    "train = df[df['hits'] != '\\\\N'].reset_index(drop=True)\n",
    "test = df[df['hits'] == '\\\\N'].reset_index(drop=True)"
   ]
  },
  {
   "cell_type": "code",
   "execution_count": 10,
   "metadata": {},
   "outputs": [
    {
     "data": {
      "text/html": [
       "<div>\n",
       "<style>\n",
       "    .dataframe thead tr:only-child th {\n",
       "        text-align: right;\n",
       "    }\n",
       "\n",
       "    .dataframe thead th {\n",
       "        text-align: left;\n",
       "    }\n",
       "\n",
       "    .dataframe tbody tr th {\n",
       "        vertical-align: top;\n",
       "    }\n",
       "</style>\n",
       "<table border=\"1\" class=\"dataframe\">\n",
       "  <thead>\n",
       "    <tr style=\"text-align: right;\">\n",
       "      <th></th>\n",
       "      <th>row_num</th>\n",
       "      <th>hour_of_day</th>\n",
       "      <th>agent_id</th>\n",
       "      <th>entry_page</th>\n",
       "      <th>traffic_type</th>\n",
       "    </tr>\n",
       "  </thead>\n",
       "  <tbody>\n",
       "    <tr>\n",
       "      <th>count</th>\n",
       "      <td>619235.000000</td>\n",
       "      <td>619235.000000</td>\n",
       "      <td>619235.000000</td>\n",
       "      <td>619235.000000</td>\n",
       "      <td>619235.000000</td>\n",
       "    </tr>\n",
       "    <tr>\n",
       "      <th>mean</th>\n",
       "      <td>494098.480154</td>\n",
       "      <td>13.192517</td>\n",
       "      <td>7.431804</td>\n",
       "      <td>2261.892047</td>\n",
       "      <td>2.713186</td>\n",
       "    </tr>\n",
       "    <tr>\n",
       "      <th>std</th>\n",
       "      <td>285454.273535</td>\n",
       "      <td>6.766696</td>\n",
       "      <td>3.980112</td>\n",
       "      <td>797.624728</td>\n",
       "      <td>1.882351</td>\n",
       "    </tr>\n",
       "    <tr>\n",
       "      <th>min</th>\n",
       "      <td>1.000000</td>\n",
       "      <td>0.000000</td>\n",
       "      <td>0.000000</td>\n",
       "      <td>2100.000000</td>\n",
       "      <td>1.000000</td>\n",
       "    </tr>\n",
       "    <tr>\n",
       "      <th>25%</th>\n",
       "      <td>246820.500000</td>\n",
       "      <td>8.000000</td>\n",
       "      <td>2.000000</td>\n",
       "      <td>2111.000000</td>\n",
       "      <td>1.000000</td>\n",
       "    </tr>\n",
       "    <tr>\n",
       "      <th>50%</th>\n",
       "      <td>493923.000000</td>\n",
       "      <td>14.000000</td>\n",
       "      <td>9.000000</td>\n",
       "      <td>2113.000000</td>\n",
       "      <td>2.000000</td>\n",
       "    </tr>\n",
       "    <tr>\n",
       "      <th>75%</th>\n",
       "      <td>741286.500000</td>\n",
       "      <td>19.000000</td>\n",
       "      <td>10.000000</td>\n",
       "      <td>2116.000000</td>\n",
       "      <td>4.000000</td>\n",
       "    </tr>\n",
       "    <tr>\n",
       "      <th>max</th>\n",
       "      <td>988680.000000</td>\n",
       "      <td>23.000000</td>\n",
       "      <td>15.000000</td>\n",
       "      <td>8101.000000</td>\n",
       "      <td>10.000000</td>\n",
       "    </tr>\n",
       "  </tbody>\n",
       "</table>\n",
       "</div>"
      ],
      "text/plain": [
       "             row_num    hour_of_day       agent_id     entry_page  \\\n",
       "count  619235.000000  619235.000000  619235.000000  619235.000000   \n",
       "mean   494098.480154      13.192517       7.431804    2261.892047   \n",
       "std    285454.273535       6.766696       3.980112     797.624728   \n",
       "min         1.000000       0.000000       0.000000    2100.000000   \n",
       "25%    246820.500000       8.000000       2.000000    2111.000000   \n",
       "50%    493923.000000      14.000000       9.000000    2113.000000   \n",
       "75%    741286.500000      19.000000      10.000000    2116.000000   \n",
       "max    988680.000000      23.000000      15.000000    8101.000000   \n",
       "\n",
       "        traffic_type  \n",
       "count  619235.000000  \n",
       "mean        2.713186  \n",
       "std         1.882351  \n",
       "min         1.000000  \n",
       "25%         1.000000  \n",
       "50%         2.000000  \n",
       "75%         4.000000  \n",
       "max        10.000000  "
      ]
     },
     "execution_count": 10,
     "metadata": {},
     "output_type": "execute_result"
    }
   ],
   "source": [
    "train.describe()"
   ]
  },
  {
   "cell_type": "code",
   "execution_count": 11,
   "metadata": {
    "collapsed": true
   },
   "outputs": [],
   "source": [
    "train = train.replace('\\\\N', np.nan)"
   ]
  },
  {
   "cell_type": "code",
   "execution_count": 14,
   "metadata": {},
   "outputs": [
    {
     "data": {
      "text/plain": [
       "row_num                 0\n",
       "locale                  0\n",
       "day_of_week             0\n",
       "hour_of_day             0\n",
       "agent_id                0\n",
       "entry_page              0\n",
       "path_id_set          3153\n",
       "traffic_type            0\n",
       "session_durantion     414\n",
       "hits                    0\n",
       "dtype: int64"
      ]
     },
     "execution_count": 14,
     "metadata": {},
     "output_type": "execute_result"
    }
   ],
   "source": [
    "train.isnull().sum()"
   ]
  },
  {
   "cell_type": "code",
   "execution_count": 15,
   "metadata": {
    "collapsed": true
   },
   "outputs": [],
   "source": [
    "train['session_isnull'] = train['session_durantion'] == np.nan\n",
    "train['path_isnull'] = train['path_id_set'] == np.nan"
   ]
  },
  {
   "cell_type": "code",
   "execution_count": 13,
   "metadata": {},
   "outputs": [],
   "source": [
    "train['session_durantion'] = train['session_durantion'].apply(pd.to_numeric, errors='coerce')\n",
    "train['hits'] = train['hits'].apply(pd.to_numeric, errors='coerce')"
   ]
  },
  {
   "cell_type": "code",
   "execution_count": 18,
   "metadata": {
    "collapsed": true
   },
   "outputs": [],
   "source": [
    "train = train.replace(np.nan, -999)"
   ]
  },
  {
   "cell_type": "code",
   "execution_count": 19,
   "metadata": {
    "collapsed": true
   },
   "outputs": [],
   "source": [
    "train_df = train.copy()"
   ]
  },
  {
   "cell_type": "code",
   "execution_count": 20,
   "metadata": {
    "collapsed": true
   },
   "outputs": [],
   "source": [
    "column_list  = ['row_num', 'locale', 'day_of_week', 'hour_of_day', 'path_id_set', 'agent_id', 'entry_page', 'traffic_type', 'session_durantion', 'hits']"
   ]
  },
  {
   "cell_type": "code",
   "execution_count": 21,
   "metadata": {
    "collapsed": true
   },
   "outputs": [],
   "source": [
    "freq_encoding = train_df.groupby('locale').size()\n",
    "freq_encoding = freq_encoding / len(train_df)\n",
    "train_df['locale_enc'] = train_df.locale.map(freq_encoding)\n",
    "\n",
    "freq_encoding = train_df.groupby('traffic_type').size()\n",
    "freq_encoding = freq_encoding / len(train_df)\n",
    "train_df['traffic_enc'] = train_df.traffic_type.map(freq_encoding)"
   ]
  },
  {
   "cell_type": "code",
   "execution_count": 22,
   "metadata": {
    "collapsed": true
   },
   "outputs": [],
   "source": [
    "label_dict = {'Monday': float(0)/7, 'Tuesday': float(1)/7, 'Wednesday': float(2)/7, 'Thursday': float(3)/7,\n",
    "              'Friday': float(4)/7, 'Saturday': float(5)/7, 'Sunday': float(6)/7}"
   ]
  },
  {
   "cell_type": "code",
   "execution_count": 23,
   "metadata": {
    "collapsed": true
   },
   "outputs": [],
   "source": [
    "train_df['week_enc'] = train_df['day_of_week']\n",
    "for day in train_df['day_of_week'].unique():\n",
    "    train_df['week_enc'] = train_df['week_enc'].replace(day, label_dict[day])"
   ]
  },
  {
   "cell_type": "code",
   "execution_count": 24,
   "metadata": {
    "collapsed": true
   },
   "outputs": [],
   "source": [
    "hours_in_day = 24\n",
    "# train_df['hr_sin'] = np.sin(train_df.hour_of_day*(2.*np.pi/hours_in_day))\n",
    "# train_df['hr_cos'] = np.cos(train_df.hour_of_day*(2.*np.pi/hours_in_day))\n",
    "\n",
    "train_df['combined_sin'] = np.sin(train_df.week_enc*(train_df.hour_of_day*(2.*np.pi/hours_in_day)))\n",
    "train_df['combined_cos'] = np.cos(train_df.week_enc*(train_df.hour_of_day*(2.*np.pi/hours_in_day)))"
   ]
  },
  {
   "cell_type": "code",
   "execution_count": 25,
   "metadata": {},
   "outputs": [
    {
     "data": {
      "image/png": "[encoded data removed]",
      "text/plain": [
       "<matplotlib.figure.Figure at 0x7fa889e03ad0>"
      ]
     },
     "metadata": {},
     "output_type": "display_data"
    }
   ],
   "source": [
    "train_df.sample(1000).plot.scatter('combined_sin', 'combined_cos').set_aspect('equal')"
   ]
  },
  {
   "cell_type": "code",
   "execution_count": 26,
   "metadata": {
    "collapsed": true
   },
   "outputs": [],
   "source": [
    "# imp = Imputer(missing_values='NaN', strategy='most_frequent', axis=0)\n",
    "# test_df['hits'] = imp.fit_transform(pd.DataFrame(test_df['hits']))"
   ]
  },
  {
   "cell_type": "code",
   "execution_count": 27,
   "metadata": {
    "collapsed": true
   },
   "outputs": [],
   "source": [
    "# test_df.loc[::, 'day_hits'] = test_df.loc[::, 'hits'].groupby(test_df['day_of_week']).transform('mean')\n",
    "\n",
    "# test_df.loc[::, 'hour_hits'] = test_df.loc[::, 'hits'].groupby(test_df['hour_of_day']).transform('mean')\n",
    "\n",
    "# test_df.loc[::, 'locale_hits'] = test_df.loc[::, 'hits'].groupby(test_df['locale']).transform('mean')\n",
    "\n",
    "# test_df.loc[::, 'traffic_hits'] = test_df.loc[::, 'hits'].groupby(test_df['traffic_type']).transform('mean')\n",
    "\n",
    "# test_df.loc[::, 'agent_hits'] = test_df.loc[::, 'hits'].groupby(test_df['agent_id']).transform('mean')\n",
    "\n",
    "# test_df.loc[::, 'entry_hits'] = test_df.loc[::, 'hits'].groupby(test_df['entry_page']).transform('mean')"
   ]
  },
  {
   "cell_type": "code",
   "execution_count": 28,
   "metadata": {
    "collapsed": true
   },
   "outputs": [],
   "source": [
    "train_df.loc[::, 'count_page'] = train_df.loc[::, 'path_id_set'].apply(lambda x: len(x.split(';')) if isinstance(x, basestring) else 0)"
   ]
  },
  {
   "cell_type": "code",
   "execution_count": 29,
   "metadata": {
    "collapsed": true
   },
   "outputs": [],
   "source": [
    "# days = test_df['day_of_week']\n",
    "# test_df = test_df.join(pd.get_dummies(days))"
   ]
  },
  {
   "cell_type": "code",
   "execution_count": 30,
   "metadata": {
    "collapsed": true
   },
   "outputs": [],
   "source": [
    "# l = test_df['locale']\n",
    "# test_df = test_df.join(pd.get_dummies(l))"
   ]
  },
  {
   "cell_type": "code",
   "execution_count": 31,
   "metadata": {
    "collapsed": true
   },
   "outputs": [],
   "source": [
    "# le = LabelEncoder()\n",
    "# test_df.iloc[:, 1] = le.fit_transform(test_df.iloc[:, 1])"
   ]
  },
  {
   "cell_type": "code",
   "execution_count": 32,
   "metadata": {
    "collapsed": true
   },
   "outputs": [],
   "source": [
    "# test_df.iloc[:, 2] = le.fit_transform(test_df.iloc[:, 2])"
   ]
  },
  {
   "cell_type": "code",
   "execution_count": 33,
   "metadata": {
    "collapsed": true
   },
   "outputs": [],
   "source": [
    "# imp = Imputer(missing_values='NaN', strategy='mean', axis=0)\n",
    "# train_df['session_durantion'] = train_df['session_durantion'].apply(pd.to_numeric, errors='coerce')\n",
    "# train_df['session_durantion'] = imp.fit_transform(pd.DataFrame(train_df['session_durantion']))\n",
    "\n",
    "# test_df = test_df.fillna(method='ffill')\n",
    "# imp = Imputer(missing_values='NaN', strategy='most_frequent', axis=0)\n",
    "# test_df.iloc[:, 8:9] = imp.fit_transform(test_df.iloc[:, 8:9])\n",
    "# test_df.iloc[:, 7:8] = imp.fit_transform(test_df.iloc[:, 7:8])"
   ]
  },
  {
   "cell_type": "code",
   "execution_count": 34,
   "metadata": {
    "collapsed": true
   },
   "outputs": [],
   "source": [
    "col1 = train_df['entry_page'] * train_df['session_durantion']\n",
    "train_df.insert(loc=1, column='col1', value=col1)\n",
    "\n",
    "# col2 = train_df['agent_id'] * train_df['traffic_type']\n",
    "# train_df.insert(loc=2, column='col2', value=col2)\n",
    "\n",
    "# col3 = train_df['traffic_type'] * train_df['session_durantion']\n",
    "# train_df.insert(loc=3, column='col3', value=col3)\n",
    "\n",
    "# col4 = train_df['hour_of_day'] * train_df['session_durantion']\n",
    "# train_df.insert(loc=4, column='col4', value=col4)\n",
    "\n",
    "# col5 = train_df['traffic_type'] * train_df['session_durantion'] * train_df['agent_id']\n",
    "# train_df.insert(loc=5, column='col5', value=col5)\n",
    "\n",
    "# col6 = train_df['entry_page'] * train_df['session_durantion']\n",
    "# train_df.insert(loc=6, column='col6', value=col6)\n",
    "\n",
    "# col7 = train_df['entry_page'] * train_df['count_page']\n",
    "# train_df.insert(loc=7, column='col7', value=col7)\n",
    "\n",
    "# col8 = train_df['session_durantion'] / train_df['count_page']\n",
    "# col8.fillna(0, inplace=True)\n",
    "# train_df.insert(loc=8, column='col8', value=col8)"
   ]
  },
  {
   "cell_type": "code",
   "execution_count": 35,
   "metadata": {
    "collapsed": true
   },
   "outputs": [],
   "source": [
    "# test_df = test_df.dropna()"
   ]
  },
  {
   "cell_type": "code",
   "execution_count": 36,
   "metadata": {},
   "outputs": [
    {
     "data": {
      "text/html": [
       "<div>\n",
       "<style>\n",
       "    .dataframe thead tr:only-child th {\n",
       "        text-align: right;\n",
       "    }\n",
       "\n",
       "    .dataframe thead th {\n",
       "        text-align: left;\n",
       "    }\n",
       "\n",
       "    .dataframe tbody tr th {\n",
       "        vertical-align: top;\n",
       "    }\n",
       "</style>\n",
       "<table border=\"1\" class=\"dataframe\">\n",
       "  <thead>\n",
       "    <tr style=\"text-align: right;\">\n",
       "      <th></th>\n",
       "      <th>row_num</th>\n",
       "      <th>col1</th>\n",
       "      <th>locale</th>\n",
       "      <th>day_of_week</th>\n",
       "      <th>hour_of_day</th>\n",
       "      <th>agent_id</th>\n",
       "      <th>entry_page</th>\n",
       "      <th>path_id_set</th>\n",
       "      <th>traffic_type</th>\n",
       "      <th>session_durantion</th>\n",
       "      <th>hits</th>\n",
       "      <th>session_isnull</th>\n",
       "      <th>path_isnull</th>\n",
       "      <th>locale_enc</th>\n",
       "      <th>traffic_enc</th>\n",
       "      <th>week_enc</th>\n",
       "      <th>combined_sin</th>\n",
       "      <th>combined_cos</th>\n",
       "      <th>count_page</th>\n",
       "    </tr>\n",
       "  </thead>\n",
       "  <tbody>\n",
       "    <tr>\n",
       "      <th>0</th>\n",
       "      <td>1</td>\n",
       "      <td>9615104.0</td>\n",
       "      <td>L4</td>\n",
       "      <td>Thursday</td>\n",
       "      <td>15</td>\n",
       "      <td>1</td>\n",
       "      <td>2116</td>\n",
       "      <td>76673;0</td>\n",
       "      <td>2</td>\n",
       "      <td>4544.0</td>\n",
       "      <td>18</td>\n",
       "      <td>False</td>\n",
       "      <td>False</td>\n",
       "      <td>0.139096</td>\n",
       "      <td>0.324229</td>\n",
       "      <td>0.428571</td>\n",
       "      <td>0.993712</td>\n",
       "      <td>-0.111964</td>\n",
       "      <td>2</td>\n",
       "    </tr>\n",
       "  </tbody>\n",
       "</table>\n",
       "</div>"
      ],
      "text/plain": [
       "   row_num       col1 locale day_of_week  hour_of_day  agent_id  entry_page  \\\n",
       "0        1  9615104.0     L4    Thursday           15         1        2116   \n",
       "\n",
       "  path_id_set  traffic_type  session_durantion  hits  session_isnull  \\\n",
       "0     76673;0             2             4544.0    18           False   \n",
       "\n",
       "   path_isnull  locale_enc  traffic_enc  week_enc  combined_sin  combined_cos  \\\n",
       "0        False    0.139096     0.324229  0.428571      0.993712     -0.111964   \n",
       "\n",
       "   count_page  \n",
       "0           2  "
      ]
     },
     "execution_count": 36,
     "metadata": {},
     "output_type": "execute_result"
    }
   ],
   "source": [
    "train_df.head(1)"
   ]
  },
  {
   "cell_type": "code",
   "execution_count": 37,
   "metadata": {},
   "outputs": [
    {
     "data": {
      "text/plain": [
       "Index([u'row_num', u'col1', u'locale', u'day_of_week', u'hour_of_day',\n",
       "       u'agent_id', u'entry_page', u'path_id_set', u'traffic_type',\n",
       "       u'session_durantion', u'hits', u'session_isnull', u'path_isnull',\n",
       "       u'locale_enc', u'traffic_enc', u'week_enc', u'combined_sin',\n",
       "       u'combined_cos', u'count_page'],\n",
       "      dtype='object')"
      ]
     },
     "execution_count": 37,
     "metadata": {},
     "output_type": "execute_result"
    }
   ],
   "source": [
    "train_df.columns"
   ]
  },
  {
   "cell_type": "code",
   "execution_count": 38,
   "metadata": {
    "collapsed": true
   },
   "outputs": [],
   "source": [
    "X = train_df.drop(['hits', 'day_of_week', 'locale', 'path_id_set', 'traffic_type'], axis=1)\n",
    "y = pd.DataFrame(train_df['hits'])"
   ]
  },
  {
   "cell_type": "code",
   "execution_count": 36,
   "metadata": {
    "collapsed": true
   },
   "outputs": [],
   "source": [
    "X_train, X_test, y_train, y_test = train_test_split(X, y, test_size=0.33, random_state=42)"
   ]
  },
  {
   "cell_type": "code",
   "execution_count": 74,
   "metadata": {
    "collapsed": true
   },
   "outputs": [],
   "source": [
    "xgdmat=xgb.DMatrix(X_train,y_train)\n",
    "our_params={'eta':0.1,'seed':0,'subsample':0.8,'colsample_bytree':0.8,'objective':'reg:linear','max_depth':3,'min_child_weight':1}\n",
    "final_gb=xgb.train(our_params,xgdmat)\n",
    "tesdmat=xgb.DMatrix(X_test)\n",
    "y_pred=final_gb.predict(tesdmat)\n",
    "# print(y_pred)"
   ]
  },
  {
   "cell_type": "code",
   "execution_count": 75,
   "metadata": {},
   "outputs": [
    {
     "name": "stdout",
     "output_type": "stream",
     "text": [
      "34.0577132784\n"
     ]
    }
   ],
   "source": [
    "mse = mean_squared_error(y_test, y_pred)\n",
    "rmse = sqrt(mse)\n",
    "print rmse"
   ]
  },
  {
   "cell_type": "code",
   "execution_count": 65,
   "metadata": {},
   "outputs": [],
   "source": [
    "# n_folds = 5\n",
    "# early_stopping = 10\n",
    "# params = {'eta': 0.02, 'max_depth': 5, 'subsample': 0.7, 'colsample_bytree': 0.7, 'objective': 'gpu:reg:linear', 'seed': 99, 'silent': 1, 'eval_metric':'rmse'}\n",
    "\n",
    "# xg_train = xgb.DMatrix(X_train, label=y_train);\n",
    "\n",
    "# cv = xgb.cv(params, xg_train, 5000, nfold=n_folds, early_stopping_rounds=early_stopping, verbose_eval=1,\n",
    "#            callbacks=[xgb.callback.print_evaluation(show_stdv=True)])"
   ]
  },
  {
   "cell_type": "code",
   "execution_count": null,
   "metadata": {
    "collapsed": true
   },
   "outputs": [],
   "source": []
  },
  {
   "cell_type": "code",
   "execution_count": 68,
   "metadata": {},
   "outputs": [
    {
     "name": "stdout",
     "output_type": "stream",
     "text": [
      "[0]\tTest-rmse:37.6724\n",
      "Will train until Test-rmse hasn't improved in 10 rounds.\n",
      "[1]\tTest-rmse:34.8315\n",
      "[2]\tTest-rmse:33.2739\n",
      "[3]\tTest-rmse:32.4761\n",
      "[4]\tTest-rmse:32.0215\n",
      "[5]\tTest-rmse:31.7881\n",
      "[6]\tTest-rmse:31.642\n",
      "[7]\tTest-rmse:31.5708\n",
      "[8]\tTest-rmse:31.5508\n",
      "[9]\tTest-rmse:31.5351\n",
      "[10]\tTest-rmse:31.5445\n",
      "[11]\tTest-rmse:31.5518\n",
      "[12]\tTest-rmse:31.5737\n",
      "[13]\tTest-rmse:31.5948\n",
      "[14]\tTest-rmse:31.6307\n",
      "[15]\tTest-rmse:31.6421\n",
      "[16]\tTest-rmse:31.6305\n",
      "[17]\tTest-rmse:31.6309\n",
      "[18]\tTest-rmse:31.6317\n",
      "[19]\tTest-rmse:31.6596\n",
      "Stopping. Best iteration:\n",
      "[9]\tTest-rmse:31.5351\n",
      "\n"
     ]
    }
   ],
   "source": [
    "dtrain = xgb.DMatrix(X_train, label=y_train)\n",
    "dtest = xgb.DMatrix(X_test, label=y_test)\n",
    "\n",
    "params = {\n",
    "    # Parameters that we are going to tune.\n",
    "    'max_depth':6,\n",
    "    'min_child_weight': 1,\n",
    "    'eta':.3,\n",
    "    'subsample': 1,\n",
    "    'colsample_bytree': 1,\n",
    "    # Other parameters\n",
    "    'silent': 1,\n",
    "    'objective':'gpu:reg:linear',\n",
    "}\n",
    "\n",
    "params['eval_metric'] = \"rmse\"\n",
    "num_boost_round = 999\n",
    "\n",
    "model = xgb.train(\n",
    "    params,\n",
    "    dtrain,\n",
    "    num_boost_round=num_boost_round,\n",
    "    evals=[(dtest, \"Test\")],\n",
    "    early_stopping_rounds=10\n",
    ")\n"
   ]
  },
  {
   "cell_type": "code",
   "execution_count": 69,
   "metadata": {},
   "outputs": [
    {
     "name": "stdout",
     "output_type": "stream",
     "text": [
      "Best MAE: 31.54 with 10 rounds\n"
     ]
    }
   ],
   "source": [
    "print(\"Best MAE: {:.2f} with {} rounds\".format(\n",
    "                 model.best_score,\n",
    "                 model.best_iteration+1))"
   ]
  },
  {
   "cell_type": "code",
   "execution_count": 71,
   "metadata": {},
   "outputs": [
    {
     "data": {
      "text/html": [
       "<div>\n",
       "<style>\n",
       "    .dataframe thead tr:only-child th {\n",
       "        text-align: right;\n",
       "    }\n",
       "\n",
       "    .dataframe thead th {\n",
       "        text-align: left;\n",
       "    }\n",
       "\n",
       "    .dataframe tbody tr th {\n",
       "        vertical-align: top;\n",
       "    }\n",
       "</style>\n",
       "<table border=\"1\" class=\"dataframe\">\n",
       "  <thead>\n",
       "    <tr style=\"text-align: right;\">\n",
       "      <th></th>\n",
       "      <th>test-rmse-mean</th>\n",
       "      <th>test-rmse-std</th>\n",
       "      <th>train-rmse-mean</th>\n",
       "      <th>train-rmse-std</th>\n",
       "    </tr>\n",
       "  </thead>\n",
       "  <tbody>\n",
       "    <tr>\n",
       "      <th>0</th>\n",
       "      <td>37.927458</td>\n",
       "      <td>2.178853</td>\n",
       "      <td>37.839212</td>\n",
       "      <td>0.539927</td>\n",
       "    </tr>\n",
       "    <tr>\n",
       "      <th>1</th>\n",
       "      <td>35.127283</td>\n",
       "      <td>2.310416</td>\n",
       "      <td>34.884294</td>\n",
       "      <td>0.547114</td>\n",
       "    </tr>\n",
       "    <tr>\n",
       "      <th>2</th>\n",
       "      <td>33.612875</td>\n",
       "      <td>2.355770</td>\n",
       "      <td>33.220571</td>\n",
       "      <td>0.540045</td>\n",
       "    </tr>\n",
       "    <tr>\n",
       "      <th>3</th>\n",
       "      <td>32.809079</td>\n",
       "      <td>2.392658</td>\n",
       "      <td>32.250405</td>\n",
       "      <td>0.518346</td>\n",
       "    </tr>\n",
       "    <tr>\n",
       "      <th>4</th>\n",
       "      <td>32.383455</td>\n",
       "      <td>2.384740</td>\n",
       "      <td>31.658708</td>\n",
       "      <td>0.489666</td>\n",
       "    </tr>\n",
       "    <tr>\n",
       "      <th>5</th>\n",
       "      <td>32.173855</td>\n",
       "      <td>2.388933</td>\n",
       "      <td>31.288584</td>\n",
       "      <td>0.504364</td>\n",
       "    </tr>\n",
       "    <tr>\n",
       "      <th>6</th>\n",
       "      <td>32.051896</td>\n",
       "      <td>2.385017</td>\n",
       "      <td>31.063136</td>\n",
       "      <td>0.501389</td>\n",
       "    </tr>\n",
       "    <tr>\n",
       "      <th>7</th>\n",
       "      <td>31.974285</td>\n",
       "      <td>2.361917</td>\n",
       "      <td>30.868604</td>\n",
       "      <td>0.498810</td>\n",
       "    </tr>\n",
       "    <tr>\n",
       "      <th>8</th>\n",
       "      <td>31.916456</td>\n",
       "      <td>2.350015</td>\n",
       "      <td>30.663959</td>\n",
       "      <td>0.455014</td>\n",
       "    </tr>\n",
       "    <tr>\n",
       "      <th>9</th>\n",
       "      <td>31.899625</td>\n",
       "      <td>2.365322</td>\n",
       "      <td>30.475862</td>\n",
       "      <td>0.448369</td>\n",
       "    </tr>\n",
       "    <tr>\n",
       "      <th>10</th>\n",
       "      <td>31.898563</td>\n",
       "      <td>2.397019</td>\n",
       "      <td>30.315038</td>\n",
       "      <td>0.478694</td>\n",
       "    </tr>\n",
       "  </tbody>\n",
       "</table>\n",
       "</div>"
      ],
      "text/plain": [
       "    test-rmse-mean  test-rmse-std  train-rmse-mean  train-rmse-std\n",
       "0        37.927458       2.178853        37.839212        0.539927\n",
       "1        35.127283       2.310416        34.884294        0.547114\n",
       "2        33.612875       2.355770        33.220571        0.540045\n",
       "3        32.809079       2.392658        32.250405        0.518346\n",
       "4        32.383455       2.384740        31.658708        0.489666\n",
       "5        32.173855       2.388933        31.288584        0.504364\n",
       "6        32.051896       2.385017        31.063136        0.501389\n",
       "7        31.974285       2.361917        30.868604        0.498810\n",
       "8        31.916456       2.350015        30.663959        0.455014\n",
       "9        31.899625       2.365322        30.475862        0.448369\n",
       "10       31.898563       2.397019        30.315038        0.478694"
      ]
     },
     "execution_count": 71,
     "metadata": {},
     "output_type": "execute_result"
    }
   ],
   "source": [
    "cv_results = xgb.cv(\n",
    "    params,\n",
    "    dtrain,\n",
    "    num_boost_round=num_boost_round,\n",
    "    seed=42,\n",
    "    nfold=5,\n",
    "    metrics={'rmse'},\n",
    "    early_stopping_rounds=10\n",
    ")\n",
    "\n",
    "cv_results"
   ]
  },
  {
   "cell_type": "code",
   "execution_count": 73,
   "metadata": {},
   "outputs": [
    {
     "data": {
      "text/plain": [
       "31.8985626"
      ]
     },
     "execution_count": 73,
     "metadata": {},
     "output_type": "execute_result"
    }
   ],
   "source": [
    "cv_results['test-rmse-mean'].min()"
   ]
  },
  {
   "cell_type": "code",
   "execution_count": 78,
   "metadata": {
    "collapsed": true
   },
   "outputs": [],
   "source": [
    "gridsearch_params = [\n",
    "    (max_depth, min_child_weight)\n",
    "    for max_depth in range(8,18)\n",
    "    for min_child_weight in range(5,15)\n",
    "]"
   ]
  },
  {
   "cell_type": "code",
   "execution_count": 79,
   "metadata": {},
   "outputs": [
    {
     "name": "stdout",
     "output_type": "stream",
     "text": [
      "CV with max_depth=8, min_child_weight=5\n",
      "\tMAE 31.9219562 for 12 rounds\n",
      "CV with max_depth=8, min_child_weight=6\n",
      "\tMAE 31.9304926 for 11 rounds\n",
      "CV with max_depth=8, min_child_weight=7\n",
      "\tMAE 31.8973852 for 9 rounds\n",
      "CV with max_depth=8, min_child_weight=8\n",
      "\tMAE 31.8949522 for 11 rounds\n",
      "CV with max_depth=8, min_child_weight=9\n"
     ]
    },
    {
     "ename": "KeyboardInterrupt",
     "evalue": "",
     "output_type": "error",
     "traceback": [
      "\u001b[0;31m---------------------------------------------------------------------------\u001b[0m",
      "\u001b[0;31mKeyboardInterrupt\u001b[0m                         Traceback (most recent call last)",
      "\u001b[0;32m<ipython-input-79-11040dfef9a0>\u001b[0m in \u001b[0;36m<module>\u001b[0;34m()\u001b[0m\n\u001b[1;32m     19\u001b[0m         \u001b[0mnfold\u001b[0m\u001b[0;34m=\u001b[0m\u001b[0;36m5\u001b[0m\u001b[0;34m,\u001b[0m\u001b[0;34m\u001b[0m\u001b[0m\n\u001b[1;32m     20\u001b[0m         \u001b[0mmetrics\u001b[0m\u001b[0;34m=\u001b[0m\u001b[0;34m{\u001b[0m\u001b[0;34m'rmse'\u001b[0m\u001b[0;34m}\u001b[0m\u001b[0;34m,\u001b[0m\u001b[0;34m\u001b[0m\u001b[0m\n\u001b[0;32m---> 21\u001b[0;31m         \u001b[0mearly_stopping_rounds\u001b[0m\u001b[0;34m=\u001b[0m\u001b[0;36m10\u001b[0m\u001b[0;34m\u001b[0m\u001b[0m\n\u001b[0m\u001b[1;32m     22\u001b[0m     )\n\u001b[1;32m     23\u001b[0m \u001b[0;34m\u001b[0m\u001b[0m\n",
      "\u001b[0;32m/home/laksh/ml/local/lib/python2.7/site-packages/xgboost/training.pyc\u001b[0m in \u001b[0;36mcv\u001b[0;34m(params, dtrain, num_boost_round, nfold, stratified, folds, metrics, obj, feval, maximize, early_stopping_rounds, fpreproc, as_pandas, verbose_eval, show_stdv, seed, callbacks, shuffle)\u001b[0m\n\u001b[1;32m    426\u001b[0m                            evaluation_result_list=None))\n\u001b[1;32m    427\u001b[0m         \u001b[0;32mfor\u001b[0m \u001b[0mfold\u001b[0m \u001b[0;32min\u001b[0m \u001b[0mcvfolds\u001b[0m\u001b[0;34m:\u001b[0m\u001b[0;34m\u001b[0m\u001b[0m\n\u001b[0;32m--> 428\u001b[0;31m             \u001b[0mfold\u001b[0m\u001b[0;34m.\u001b[0m\u001b[0mupdate\u001b[0m\u001b[0;34m(\u001b[0m\u001b[0mi\u001b[0m\u001b[0;34m,\u001b[0m \u001b[0mobj\u001b[0m\u001b[0;34m)\u001b[0m\u001b[0;34m\u001b[0m\u001b[0m\n\u001b[0m\u001b[1;32m    429\u001b[0m         \u001b[0mres\u001b[0m \u001b[0;34m=\u001b[0m \u001b[0maggcv\u001b[0m\u001b[0;34m(\u001b[0m\u001b[0;34m[\u001b[0m\u001b[0mf\u001b[0m\u001b[0;34m.\u001b[0m\u001b[0meval\u001b[0m\u001b[0;34m(\u001b[0m\u001b[0mi\u001b[0m\u001b[0;34m,\u001b[0m \u001b[0mfeval\u001b[0m\u001b[0;34m)\u001b[0m \u001b[0;32mfor\u001b[0m \u001b[0mf\u001b[0m \u001b[0;32min\u001b[0m \u001b[0mcvfolds\u001b[0m\u001b[0;34m]\u001b[0m\u001b[0;34m)\u001b[0m\u001b[0;34m\u001b[0m\u001b[0m\n\u001b[1;32m    430\u001b[0m \u001b[0;34m\u001b[0m\u001b[0m\n",
      "\u001b[0;32m/home/laksh/ml/local/lib/python2.7/site-packages/xgboost/training.pyc\u001b[0m in \u001b[0;36mupdate\u001b[0;34m(self, iteration, fobj)\u001b[0m\n\u001b[1;32m    216\u001b[0m     \u001b[0;32mdef\u001b[0m \u001b[0mupdate\u001b[0m\u001b[0;34m(\u001b[0m\u001b[0mself\u001b[0m\u001b[0;34m,\u001b[0m \u001b[0miteration\u001b[0m\u001b[0;34m,\u001b[0m \u001b[0mfobj\u001b[0m\u001b[0;34m)\u001b[0m\u001b[0;34m:\u001b[0m\u001b[0;34m\u001b[0m\u001b[0m\n\u001b[1;32m    217\u001b[0m         \u001b[0;34m\"\"\"\"Update the boosters for one iteration\"\"\"\u001b[0m\u001b[0;34m\u001b[0m\u001b[0m\n\u001b[0;32m--> 218\u001b[0;31m         \u001b[0mself\u001b[0m\u001b[0;34m.\u001b[0m\u001b[0mbst\u001b[0m\u001b[0;34m.\u001b[0m\u001b[0mupdate\u001b[0m\u001b[0;34m(\u001b[0m\u001b[0mself\u001b[0m\u001b[0;34m.\u001b[0m\u001b[0mdtrain\u001b[0m\u001b[0;34m,\u001b[0m \u001b[0miteration\u001b[0m\u001b[0;34m,\u001b[0m \u001b[0mfobj\u001b[0m\u001b[0;34m)\u001b[0m\u001b[0;34m\u001b[0m\u001b[0m\n\u001b[0m\u001b[1;32m    219\u001b[0m \u001b[0;34m\u001b[0m\u001b[0m\n\u001b[1;32m    220\u001b[0m     \u001b[0;32mdef\u001b[0m \u001b[0meval\u001b[0m\u001b[0;34m(\u001b[0m\u001b[0mself\u001b[0m\u001b[0;34m,\u001b[0m \u001b[0miteration\u001b[0m\u001b[0;34m,\u001b[0m \u001b[0mfeval\u001b[0m\u001b[0;34m)\u001b[0m\u001b[0;34m:\u001b[0m\u001b[0;34m\u001b[0m\u001b[0m\n",
      "\u001b[0;32m/home/laksh/ml/local/lib/python2.7/site-packages/xgboost/core.pyc\u001b[0m in \u001b[0;36mupdate\u001b[0;34m(self, dtrain, iteration, fobj)\u001b[0m\n\u001b[1;32m   1019\u001b[0m         \u001b[0;32mif\u001b[0m \u001b[0mfobj\u001b[0m \u001b[0;32mis\u001b[0m \u001b[0mNone\u001b[0m\u001b[0;34m:\u001b[0m\u001b[0;34m\u001b[0m\u001b[0m\n\u001b[1;32m   1020\u001b[0m             _check_call(_LIB.XGBoosterUpdateOneIter(self.handle, ctypes.c_int(iteration),\n\u001b[0;32m-> 1021\u001b[0;31m                                                     dtrain.handle))\n\u001b[0m\u001b[1;32m   1022\u001b[0m         \u001b[0;32melse\u001b[0m\u001b[0;34m:\u001b[0m\u001b[0;34m\u001b[0m\u001b[0m\n\u001b[1;32m   1023\u001b[0m             \u001b[0mpred\u001b[0m \u001b[0;34m=\u001b[0m \u001b[0mself\u001b[0m\u001b[0;34m.\u001b[0m\u001b[0mpredict\u001b[0m\u001b[0;34m(\u001b[0m\u001b[0mdtrain\u001b[0m\u001b[0;34m)\u001b[0m\u001b[0;34m\u001b[0m\u001b[0m\n",
      "\u001b[0;31mKeyboardInterrupt\u001b[0m: "
     ]
    }
   ],
   "source": [
    "# Define initial best params and MAE\n",
    "min_mae = float(\"Inf\")\n",
    "best_params = None\n",
    "for max_depth, min_child_weight in gridsearch_params:\n",
    "    print(\"CV with max_depth={}, min_child_weight={}\".format(\n",
    "                             max_depth,\n",
    "                             min_child_weight))\n",
    "\n",
    "    # Update our parameters\n",
    "    params['max_depth'] = max_depth\n",
    "    params['min_child_weight'] = min_child_weight\n",
    "\n",
    "    # Run CV\n",
    "    cv_results = xgb.cv(\n",
    "        params,\n",
    "        dtrain,\n",
    "        num_boost_round=num_boost_round,\n",
    "        seed=42,\n",
    "        nfold=5,\n",
    "        metrics={'rmse'},\n",
    "        early_stopping_rounds=10\n",
    "    )\n",
    "\n",
    "    # Update best MAE\n",
    "    mean_mae = cv_results['test-rmse-mean'].min()\n",
    "    boost_rounds = cv_results['test-rmse-mean'].argmin()\n",
    "    print(\"\\tMAE {} for {} rounds\".format(mean_mae, boost_rounds))\n",
    "    if mean_mae < min_mae:\n",
    "        min_mae = mean_mae\n",
    "        best_params = (max_depth,min_child_weight)\n",
    "\n",
    "print(\"Best params: {}, {}, MAE: {}\".format(best_params[0], best_params[1], min_mae))"
   ]
  },
  {
   "cell_type": "code",
   "execution_count": 80,
   "metadata": {
    "collapsed": true
   },
   "outputs": [],
   "source": [
    "params['max_depth'] = 9\n",
    "params['min_child_weight'] = 7"
   ]
  },
  {
   "cell_type": "code",
   "execution_count": 81,
   "metadata": {},
   "outputs": [
    {
     "name": "stdout",
     "output_type": "stream",
     "text": [
      "CV with subsample=1.0, colsample=1.0\n",
      "\trmse 32.0001484 for 12 rounds\n",
      "CV with subsample=1.0, colsample=0.9\n",
      "\trmse 31.9963056 for 8 rounds\n",
      "CV with subsample=1.0, colsample=0.8\n",
      "\trmse 32.035028 for 9 rounds\n",
      "CV with subsample=1.0, colsample=0.7\n",
      "\trmse 32.0661808 for 8 rounds\n",
      "CV with subsample=0.9, colsample=1.0\n",
      "\trmse 32.0113504 for 7 rounds\n",
      "CV with subsample=0.9, colsample=0.9\n",
      "\trmse 32.055843 for 8 rounds\n",
      "CV with subsample=0.9, colsample=0.8\n",
      "\trmse 32.0833938 for 9 rounds\n",
      "CV with subsample=0.9, colsample=0.7\n",
      "\trmse 32.0263866 for 9 rounds\n",
      "CV with subsample=0.8, colsample=1.0\n",
      "\trmse 32.0102432 for 9 rounds\n",
      "CV with subsample=0.8, colsample=0.9\n",
      "\trmse 32.0054184 for 9 rounds\n",
      "CV with subsample=0.8, colsample=0.8\n",
      "\trmse 32.0470488 for 9 rounds\n",
      "CV with subsample=0.8, colsample=0.7\n",
      "\trmse 32.0715634 for 9 rounds\n",
      "CV with subsample=0.7, colsample=1.0\n",
      "\trmse 32.161385 for 8 rounds\n",
      "CV with subsample=0.7, colsample=0.9\n",
      "\trmse 32.0607572 for 8 rounds\n",
      "CV with subsample=0.7, colsample=0.8\n",
      "\trmse 32.0818986 for 8 rounds\n",
      "CV with subsample=0.7, colsample=0.7\n",
      "\trmse 32.0272532 for 8 rounds\n",
      "Best params: 1.0, 0.9, rmse: 31.9963056\n"
     ]
    }
   ],
   "source": [
    "gridsearch_params = [\n",
    "    (subsample, colsample)\n",
    "    for subsample in [i/10. for i in range(7,11)]\n",
    "    for colsample in [i/10. for i in range(7,11)]\n",
    "]\n",
    "\n",
    "min_rmse = float(\"Inf\")\n",
    "best_params = None\n",
    "\n",
    "# We start by the largest values and go down to the smallest\n",
    "for subsample, colsample in reversed(gridsearch_params):\n",
    "    print(\"CV with subsample={}, colsample={}\".format(\n",
    "                             subsample,\n",
    "                             colsample))\n",
    "\n",
    "    # We update our parameters\n",
    "    params['subsample'] = subsample\n",
    "    params['colsample_bytree'] = colsample\n",
    "\n",
    "    # Run CV\n",
    "    cv_results = xgb.cv(\n",
    "        params,\n",
    "        dtrain,\n",
    "        num_boost_round=num_boost_round,\n",
    "        seed=42,\n",
    "        nfold=5,\n",
    "        metrics={'rmse'},\n",
    "        early_stopping_rounds=10\n",
    "    )\n",
    "\n",
    "    # Update best score\n",
    "    mean_rmse = cv_results['test-rmse-mean'].min()\n",
    "    boost_rounds = cv_results['test-rmse-mean'].argmin()\n",
    "    print(\"\\trmse {} for {} rounds\".format(mean_rmse, boost_rounds))\n",
    "    if mean_rmse < min_rmse:\n",
    "        min_rmse = mean_rmse\n",
    "        best_params = (subsample,colsample)\n",
    "\n",
    "print(\"Best params: {}, {}, rmse: {}\".format(best_params[0], best_params[1], min_rmse))"
   ]
  },
  {
   "cell_type": "code",
   "execution_count": 82,
   "metadata": {
    "collapsed": true
   },
   "outputs": [],
   "source": [
    "params['subsample'] = 1.\n",
    "params['colsample_bytree'] = .9"
   ]
  },
  {
   "cell_type": "code",
   "execution_count": 83,
   "metadata": {},
   "outputs": [
    {
     "name": "stdout",
     "output_type": "stream",
     "text": [
      "CPU times: user 0 ns, sys: 0 ns, total: 0 ns\n",
      "Wall time: 4.05 µs\n"
     ]
    }
   ],
   "source": [
    "%time"
   ]
  },
  {
   "cell_type": "code",
   "execution_count": 89,
   "metadata": {},
   "outputs": [
    {
     "name": "stdout",
     "output_type": "stream",
     "text": [
      "CV with eta=0.3\n",
      "CPU times: user 2min 8s, sys: 308 ms, total: 2min 8s\n",
      "Wall time: 22 s\n",
      "\trmse 31.9963056 for 8 rounds\n",
      "\n",
      "CV with eta=0.2\n",
      "CPU times: user 2min 55s, sys: 428 ms, total: 2min 55s\n",
      "Wall time: 30 s\n",
      "\trmse 31.9892054 for 14 rounds\n",
      "\n",
      "CV with eta=0.1\n",
      "CPU times: user 5min 25s, sys: 544 ms, total: 5min 26s\n",
      "Wall time: 54.1 s\n",
      "\trmse 31.846317 for 35 rounds\n",
      "\n",
      "CV with eta=0.05\n",
      "CPU times: user 10min 31s, sys: 920 ms, total: 10min 31s\n",
      "Wall time: 1min 43s\n",
      "\trmse 31.8225528 for 79 rounds\n",
      "\n",
      "CV with eta=0.01\n",
      "CPU times: user 43min 52s, sys: 3.32 s, total: 43min 56s\n",
      "Wall time: 7min 10s\n",
      "\trmse 31.8121636 for 360 rounds\n",
      "\n",
      "CV with eta=0.005\n",
      "CPU times: user 1h 25min 22s, sys: 6.72 s, total: 1h 25min 29s\n",
      "Wall time: 13min 52s\n",
      "\trmse 31.7988136 for 709 rounds\n",
      "\n",
      "Best params: 0.005, rmse: 31.7988136\n"
     ]
    }
   ],
   "source": [
    "# This can take some time…\n",
    "min_rmse = float(\"Inf\")\n",
    "best_params = None\n",
    "\n",
    "for eta in [.3, .2, .1, .05, .01, .005]:\n",
    "    print(\"CV with eta={}\".format(eta))\n",
    "\n",
    "    # We update our parameters\n",
    "    params['eta'] = eta\n",
    "\n",
    "    # Run and time CV\n",
    "    %time cv_results = xgb.cv(params, dtrain, num_boost_round=num_boost_round, seed=42, nfold=5, metrics=['rmse'], early_stopping_rounds=10)\n",
    "\n",
    "    # Update best score\n",
    "    mean_rmse = cv_results['test-rmse-mean'].min()\n",
    "    boost_rounds = cv_results['test-rmse-mean'].argmin()\n",
    "    print(\"\\trmse {} for {} rounds\\n\".format(mean_rmse, boost_rounds))\n",
    "    if mean_rmse < min_rmse:\n",
    "        min_rmse = mean_rmse\n",
    "        best_params = eta\n",
    "\n",
    "print(\"Best params: {}, rmse: {}\".format(best_params, min_rmse))"
   ]
  },
  {
   "cell_type": "code",
   "execution_count": 91,
   "metadata": {
    "collapsed": true
   },
   "outputs": [],
   "source": [
    "params['eta'] = .02"
   ]
  },
  {
   "cell_type": "code",
   "execution_count": 92,
   "metadata": {},
   "outputs": [
    {
     "data": {
      "text/plain": [
       "{'colsample_bytree': 0.9,\n",
       " 'eta': 0.02,\n",
       " 'eval_metric': 'rmse',\n",
       " 'max_depth': 9,\n",
       " 'min_child_weight': 7,\n",
       " 'objective': 'gpu:reg:linear',\n",
       " 'silent': 1,\n",
       " 'subsample': 1.0}"
      ]
     },
     "execution_count": 92,
     "metadata": {},
     "output_type": "execute_result"
    }
   ],
   "source": [
    "params"
   ]
  },
  {
   "cell_type": "code",
   "execution_count": 94,
   "metadata": {},
   "outputs": [
    {
     "name": "stdout",
     "output_type": "stream",
     "text": [
      "[0]\tTest-rmse:42.3842\n",
      "Will train until Test-rmse hasn't improved in 20 rounds.\n",
      "[1]\tTest-rmse:42.0107\n",
      "[2]\tTest-rmse:41.6514\n",
      "[3]\tTest-rmse:41.3015\n",
      "[4]\tTest-rmse:41.0032\n",
      "[5]\tTest-rmse:40.6775\n",
      "[6]\tTest-rmse:40.3987\n",
      "[7]\tTest-rmse:40.1287\n",
      "[8]\tTest-rmse:39.8226\n",
      "[9]\tTest-rmse:39.5371\n",
      "[10]\tTest-rmse:39.2584\n",
      "[11]\tTest-rmse:38.9869\n",
      "[12]\tTest-rmse:38.7242\n",
      "[13]\tTest-rmse:38.5048\n",
      "[14]\tTest-rmse:38.2545\n",
      "[15]\tTest-rmse:38.0449\n",
      "[16]\tTest-rmse:37.8097\n",
      "[17]\tTest-rmse:37.5859\n",
      "[18]\tTest-rmse:37.3674\n",
      "[19]\tTest-rmse:37.1526\n",
      "[20]\tTest-rmse:36.9469\n",
      "[21]\tTest-rmse:36.7475\n",
      "[22]\tTest-rmse:36.5563\n",
      "[23]\tTest-rmse:36.3963\n",
      "[24]\tTest-rmse:36.2172\n",
      "[25]\tTest-rmse:36.0684\n",
      "[26]\tTest-rmse:35.9016\n",
      "[27]\tTest-rmse:35.7382\n",
      "[28]\tTest-rmse:35.5815\n",
      "[29]\tTest-rmse:35.4313\n",
      "[30]\tTest-rmse:35.2854\n",
      "[31]\tTest-rmse:35.1648\n",
      "[32]\tTest-rmse:35.0289\n",
      "[33]\tTest-rmse:34.9167\n",
      "[34]\tTest-rmse:34.7898\n",
      "[35]\tTest-rmse:34.6683\n",
      "[36]\tTest-rmse:34.5497\n",
      "[37]\tTest-rmse:34.4363\n",
      "[38]\tTest-rmse:34.3245\n",
      "[39]\tTest-rmse:34.2183\n",
      "[40]\tTest-rmse:34.1306\n",
      "[41]\tTest-rmse:34.0331\n",
      "[42]\tTest-rmse:33.9385\n",
      "[43]\tTest-rmse:33.8456\n",
      "[44]\tTest-rmse:33.7579\n",
      "[45]\tTest-rmse:33.6705\n",
      "[46]\tTest-rmse:33.6015\n",
      "[47]\tTest-rmse:33.5209\n",
      "[48]\tTest-rmse:33.4437\n",
      "[49]\tTest-rmse:33.3827\n",
      "[50]\tTest-rmse:33.3116\n",
      "[51]\tTest-rmse:33.2424\n",
      "[52]\tTest-rmse:33.1749\n",
      "[53]\tTest-rmse:33.1118\n",
      "[54]\tTest-rmse:33.0493\n",
      "[55]\tTest-rmse:33.0009\n",
      "[56]\tTest-rmse:32.9448\n",
      "[57]\tTest-rmse:32.8901\n",
      "[58]\tTest-rmse:32.836\n",
      "[59]\tTest-rmse:32.785\n",
      "[60]\tTest-rmse:32.7346\n",
      "[61]\tTest-rmse:32.6865\n",
      "[62]\tTest-rmse:32.6393\n",
      "[63]\tTest-rmse:32.593\n",
      "[64]\tTest-rmse:32.5502\n",
      "[65]\tTest-rmse:32.5096\n",
      "[66]\tTest-rmse:32.4775\n",
      "[67]\tTest-rmse:32.4417\n",
      "[68]\tTest-rmse:32.4039\n",
      "[69]\tTest-rmse:32.3711\n",
      "[70]\tTest-rmse:32.3353\n",
      "[71]\tTest-rmse:32.3018\n",
      "[72]\tTest-rmse:32.2771\n",
      "[73]\tTest-rmse:32.2464\n",
      "[74]\tTest-rmse:32.2183\n",
      "[75]\tTest-rmse:32.1893\n",
      "[76]\tTest-rmse:32.1602\n",
      "[77]\tTest-rmse:32.1358\n",
      "[78]\tTest-rmse:32.1103\n",
      "[79]\tTest-rmse:32.0882\n",
      "[80]\tTest-rmse:32.0654\n",
      "[81]\tTest-rmse:32.0435\n",
      "[82]\tTest-rmse:32.0195\n",
      "[83]\tTest-rmse:31.9981\n",
      "[84]\tTest-rmse:31.9787\n",
      "[85]\tTest-rmse:31.9614\n",
      "[86]\tTest-rmse:31.9449\n",
      "[87]\tTest-rmse:31.927\n",
      "[88]\tTest-rmse:31.9095\n",
      "[89]\tTest-rmse:31.8946\n",
      "[90]\tTest-rmse:31.88\n",
      "[91]\tTest-rmse:31.8667\n",
      "[92]\tTest-rmse:31.855\n",
      "[93]\tTest-rmse:31.8429\n",
      "[94]\tTest-rmse:31.8309\n",
      "[95]\tTest-rmse:31.8192\n",
      "[96]\tTest-rmse:31.8076\n",
      "[97]\tTest-rmse:31.7977\n",
      "[98]\tTest-rmse:31.7871\n",
      "[99]\tTest-rmse:31.7774\n",
      "[100]\tTest-rmse:31.7676\n",
      "[101]\tTest-rmse:31.7584\n",
      "[102]\tTest-rmse:31.7493\n",
      "[103]\tTest-rmse:31.7417\n",
      "[104]\tTest-rmse:31.7322\n",
      "[105]\tTest-rmse:31.7227\n",
      "[106]\tTest-rmse:31.714\n",
      "[107]\tTest-rmse:31.7062\n",
      "[108]\tTest-rmse:31.6985\n",
      "[109]\tTest-rmse:31.6911\n",
      "[110]\tTest-rmse:31.6849\n",
      "[111]\tTest-rmse:31.678\n",
      "[112]\tTest-rmse:31.6718\n",
      "[113]\tTest-rmse:31.6668\n",
      "[114]\tTest-rmse:31.6611\n",
      "[115]\tTest-rmse:31.655\n",
      "[116]\tTest-rmse:31.6493\n",
      "[117]\tTest-rmse:31.6434\n",
      "[118]\tTest-rmse:31.6386\n",
      "[119]\tTest-rmse:31.6337\n",
      "[120]\tTest-rmse:31.6287\n",
      "[121]\tTest-rmse:31.6255\n",
      "[122]\tTest-rmse:31.6204\n",
      "[123]\tTest-rmse:31.6161\n",
      "[124]\tTest-rmse:31.6118\n",
      "[125]\tTest-rmse:31.6081\n",
      "[126]\tTest-rmse:31.604\n",
      "[127]\tTest-rmse:31.6001\n",
      "[128]\tTest-rmse:31.5973\n",
      "[129]\tTest-rmse:31.5936\n",
      "[130]\tTest-rmse:31.5915\n",
      "[131]\tTest-rmse:31.5888\n",
      "[132]\tTest-rmse:31.5853\n",
      "[133]\tTest-rmse:31.5826\n",
      "[134]\tTest-rmse:31.5786\n",
      "[135]\tTest-rmse:31.5758\n",
      "[136]\tTest-rmse:31.5717\n",
      "[137]\tTest-rmse:31.57\n",
      "[138]\tTest-rmse:31.5676\n",
      "[139]\tTest-rmse:31.5651\n",
      "[140]\tTest-rmse:31.5634\n",
      "[141]\tTest-rmse:31.5607\n",
      "[142]\tTest-rmse:31.5587\n",
      "[143]\tTest-rmse:31.555\n",
      "[144]\tTest-rmse:31.5539\n",
      "[145]\tTest-rmse:31.5518\n",
      "[146]\tTest-rmse:31.5497\n",
      "[147]\tTest-rmse:31.5484\n",
      "[148]\tTest-rmse:31.548\n",
      "[149]\tTest-rmse:31.5466\n",
      "[150]\tTest-rmse:31.5446\n",
      "[151]\tTest-rmse:31.5449\n",
      "[152]\tTest-rmse:31.5446\n",
      "[153]\tTest-rmse:31.5435\n",
      "[154]\tTest-rmse:31.5425\n",
      "[155]\tTest-rmse:31.5407\n",
      "[156]\tTest-rmse:31.5402\n",
      "[157]\tTest-rmse:31.5386\n",
      "[158]\tTest-rmse:31.5372\n",
      "[159]\tTest-rmse:31.5372\n",
      "[160]\tTest-rmse:31.5373\n",
      "[161]\tTest-rmse:31.5366\n",
      "[162]\tTest-rmse:31.537\n",
      "[163]\tTest-rmse:31.5353\n",
      "[164]\tTest-rmse:31.5358\n",
      "[165]\tTest-rmse:31.534\n",
      "[166]\tTest-rmse:31.5336\n",
      "[167]\tTest-rmse:31.5326\n",
      "[168]\tTest-rmse:31.5314\n",
      "[169]\tTest-rmse:31.5312\n",
      "[170]\tTest-rmse:31.5308\n",
      "[171]\tTest-rmse:31.53\n",
      "[172]\tTest-rmse:31.5312\n",
      "[173]\tTest-rmse:31.531\n",
      "[174]\tTest-rmse:31.5323\n",
      "[175]\tTest-rmse:31.5327\n",
      "[176]\tTest-rmse:31.5309\n",
      "[177]\tTest-rmse:31.532\n",
      "[178]\tTest-rmse:31.5329\n",
      "[179]\tTest-rmse:31.5313\n",
      "[180]\tTest-rmse:31.5307\n",
      "[181]\tTest-rmse:31.5319\n",
      "[182]\tTest-rmse:31.532\n",
      "[183]\tTest-rmse:31.532\n",
      "[184]\tTest-rmse:31.5323\n",
      "[185]\tTest-rmse:31.5311\n",
      "[186]\tTest-rmse:31.5328\n",
      "[187]\tTest-rmse:31.5328\n",
      "[188]\tTest-rmse:31.5327\n",
      "[189]\tTest-rmse:31.5332\n",
      "[190]\tTest-rmse:31.5323\n",
      "[191]\tTest-rmse:31.5326\n",
      "Stopping. Best iteration:\n",
      "[171]\tTest-rmse:31.53\n",
      "\n",
      "Best MAE: 31.53 in 172 rounds\n"
     ]
    }
   ],
   "source": [
    "model = xgb.train(\n",
    "    params,\n",
    "    dtrain,\n",
    "    num_boost_round=num_boost_round,\n",
    "    evals=[(dtest, \"Test\")],\n",
    "    early_stopping_rounds=20\n",
    ")\n",
    "\n",
    "print(\"Best MAE: {:.2f} in {} rounds\".format(model.best_score, model.best_iteration+1))"
   ]
  },
  {
   "cell_type": "code",
   "execution_count": 96,
   "metadata": {
    "scrolled": true
   },
   "outputs": [
    {
     "name": "stdout",
     "output_type": "stream",
     "text": [
      "[0]\tTest-rmse:42.3842\n",
      "[1]\tTest-rmse:42.0107\n",
      "[2]\tTest-rmse:41.6514\n",
      "[3]\tTest-rmse:41.3015\n",
      "[4]\tTest-rmse:41.0032\n",
      "[5]\tTest-rmse:40.6775\n",
      "[6]\tTest-rmse:40.3987\n",
      "[7]\tTest-rmse:40.1287\n",
      "[8]\tTest-rmse:39.8226\n",
      "[9]\tTest-rmse:39.5371\n",
      "[10]\tTest-rmse:39.2584\n",
      "[11]\tTest-rmse:38.9869\n",
      "[12]\tTest-rmse:38.7242\n",
      "[13]\tTest-rmse:38.5048\n",
      "[14]\tTest-rmse:38.2545\n",
      "[15]\tTest-rmse:38.0449\n",
      "[16]\tTest-rmse:37.8097\n",
      "[17]\tTest-rmse:37.5859\n",
      "[18]\tTest-rmse:37.3674\n",
      "[19]\tTest-rmse:37.1526\n",
      "[20]\tTest-rmse:36.9469\n",
      "[21]\tTest-rmse:36.7475\n",
      "[22]\tTest-rmse:36.5563\n",
      "[23]\tTest-rmse:36.3963\n",
      "[24]\tTest-rmse:36.2172\n",
      "[25]\tTest-rmse:36.0684\n",
      "[26]\tTest-rmse:35.9016\n",
      "[27]\tTest-rmse:35.7382\n",
      "[28]\tTest-rmse:35.5815\n",
      "[29]\tTest-rmse:35.4313\n",
      "[30]\tTest-rmse:35.2854\n",
      "[31]\tTest-rmse:35.1648\n",
      "[32]\tTest-rmse:35.0289\n",
      "[33]\tTest-rmse:34.9167\n",
      "[34]\tTest-rmse:34.7898\n",
      "[35]\tTest-rmse:34.6683\n",
      "[36]\tTest-rmse:34.5497\n",
      "[37]\tTest-rmse:34.4363\n",
      "[38]\tTest-rmse:34.3245\n",
      "[39]\tTest-rmse:34.2183\n",
      "[40]\tTest-rmse:34.1306\n",
      "[41]\tTest-rmse:34.0331\n",
      "[42]\tTest-rmse:33.9385\n",
      "[43]\tTest-rmse:33.8456\n",
      "[44]\tTest-rmse:33.7579\n",
      "[45]\tTest-rmse:33.6705\n",
      "[46]\tTest-rmse:33.6015\n",
      "[47]\tTest-rmse:33.5209\n",
      "[48]\tTest-rmse:33.4437\n",
      "[49]\tTest-rmse:33.3827\n",
      "[50]\tTest-rmse:33.3116\n",
      "[51]\tTest-rmse:33.2424\n",
      "[52]\tTest-rmse:33.1749\n",
      "[53]\tTest-rmse:33.1118\n",
      "[54]\tTest-rmse:33.0493\n",
      "[55]\tTest-rmse:33.0009\n",
      "[56]\tTest-rmse:32.9448\n",
      "[57]\tTest-rmse:32.8901\n",
      "[58]\tTest-rmse:32.836\n",
      "[59]\tTest-rmse:32.785\n",
      "[60]\tTest-rmse:32.7346\n",
      "[61]\tTest-rmse:32.6865\n",
      "[62]\tTest-rmse:32.6393\n",
      "[63]\tTest-rmse:32.593\n",
      "[64]\tTest-rmse:32.5502\n",
      "[65]\tTest-rmse:32.5096\n",
      "[66]\tTest-rmse:32.4775\n",
      "[67]\tTest-rmse:32.4417\n",
      "[68]\tTest-rmse:32.4039\n",
      "[69]\tTest-rmse:32.3711\n",
      "[70]\tTest-rmse:32.3353\n",
      "[71]\tTest-rmse:32.3018\n",
      "[72]\tTest-rmse:32.2771\n",
      "[73]\tTest-rmse:32.2464\n",
      "[74]\tTest-rmse:32.2183\n",
      "[75]\tTest-rmse:32.1893\n",
      "[76]\tTest-rmse:32.1602\n",
      "[77]\tTest-rmse:32.1358\n",
      "[78]\tTest-rmse:32.1103\n",
      "[79]\tTest-rmse:32.0882\n",
      "[80]\tTest-rmse:32.0654\n",
      "[81]\tTest-rmse:32.0435\n",
      "[82]\tTest-rmse:32.0195\n",
      "[83]\tTest-rmse:31.9981\n",
      "[84]\tTest-rmse:31.9787\n",
      "[85]\tTest-rmse:31.9614\n",
      "[86]\tTest-rmse:31.9449\n",
      "[87]\tTest-rmse:31.927\n",
      "[88]\tTest-rmse:31.9095\n",
      "[89]\tTest-rmse:31.8946\n",
      "[90]\tTest-rmse:31.88\n",
      "[91]\tTest-rmse:31.8667\n",
      "[92]\tTest-rmse:31.855\n",
      "[93]\tTest-rmse:31.8429\n",
      "[94]\tTest-rmse:31.8309\n",
      "[95]\tTest-rmse:31.8192\n",
      "[96]\tTest-rmse:31.8076\n",
      "[97]\tTest-rmse:31.7977\n",
      "[98]\tTest-rmse:31.7871\n",
      "[99]\tTest-rmse:31.7774\n",
      "[100]\tTest-rmse:31.7676\n",
      "[101]\tTest-rmse:31.7584\n",
      "[102]\tTest-rmse:31.7493\n",
      "[103]\tTest-rmse:31.7417\n",
      "[104]\tTest-rmse:31.7322\n",
      "[105]\tTest-rmse:31.7227\n",
      "[106]\tTest-rmse:31.714\n",
      "[107]\tTest-rmse:31.7062\n",
      "[108]\tTest-rmse:31.6985\n",
      "[109]\tTest-rmse:31.6911\n",
      "[110]\tTest-rmse:31.6849\n",
      "[111]\tTest-rmse:31.678\n",
      "[112]\tTest-rmse:31.6718\n",
      "[113]\tTest-rmse:31.6668\n",
      "[114]\tTest-rmse:31.6611\n",
      "[115]\tTest-rmse:31.655\n",
      "[116]\tTest-rmse:31.6493\n",
      "[117]\tTest-rmse:31.6434\n",
      "[118]\tTest-rmse:31.6386\n",
      "[119]\tTest-rmse:31.6337\n",
      "[120]\tTest-rmse:31.6287\n",
      "[121]\tTest-rmse:31.6255\n",
      "[122]\tTest-rmse:31.6204\n",
      "[123]\tTest-rmse:31.6161\n",
      "[124]\tTest-rmse:31.6118\n",
      "[125]\tTest-rmse:31.6081\n",
      "[126]\tTest-rmse:31.604\n",
      "[127]\tTest-rmse:31.6001\n",
      "[128]\tTest-rmse:31.5973\n",
      "[129]\tTest-rmse:31.5936\n",
      "[130]\tTest-rmse:31.5915\n",
      "[131]\tTest-rmse:31.5888\n",
      "[132]\tTest-rmse:31.5853\n",
      "[133]\tTest-rmse:31.5826\n",
      "[134]\tTest-rmse:31.5786\n",
      "[135]\tTest-rmse:31.5758\n",
      "[136]\tTest-rmse:31.5717\n",
      "[137]\tTest-rmse:31.57\n",
      "[138]\tTest-rmse:31.5676\n",
      "[139]\tTest-rmse:31.5651\n",
      "[140]\tTest-rmse:31.5634\n",
      "[141]\tTest-rmse:31.5607\n",
      "[142]\tTest-rmse:31.5587\n",
      "[143]\tTest-rmse:31.555\n",
      "[144]\tTest-rmse:31.5539\n",
      "[145]\tTest-rmse:31.5518\n",
      "[146]\tTest-rmse:31.5497\n",
      "[147]\tTest-rmse:31.5484\n",
      "[148]\tTest-rmse:31.548\n",
      "[149]\tTest-rmse:31.5466\n",
      "[150]\tTest-rmse:31.5446\n",
      "[151]\tTest-rmse:31.5449\n",
      "[152]\tTest-rmse:31.5446\n",
      "[153]\tTest-rmse:31.5435\n",
      "[154]\tTest-rmse:31.5425\n",
      "[155]\tTest-rmse:31.5407\n",
      "[156]\tTest-rmse:31.5402\n",
      "[157]\tTest-rmse:31.5386\n",
      "[158]\tTest-rmse:31.5372\n",
      "[159]\tTest-rmse:31.5372\n",
      "[160]\tTest-rmse:31.5373\n",
      "[161]\tTest-rmse:31.5366\n",
      "[162]\tTest-rmse:31.537\n",
      "[163]\tTest-rmse:31.5353\n",
      "[164]\tTest-rmse:31.5358\n",
      "[165]\tTest-rmse:31.534\n",
      "[166]\tTest-rmse:31.5336\n",
      "[167]\tTest-rmse:31.5326\n",
      "[168]\tTest-rmse:31.5314\n",
      "[169]\tTest-rmse:31.5312\n",
      "[170]\tTest-rmse:31.5308\n",
      "[171]\tTest-rmse:31.53\n"
     ]
    }
   ],
   "source": [
    "num_boost_round = model.best_iteration + 1\n",
    "\n",
    "best_model = xgb.train(\n",
    "    params,\n",
    "    dtrain,\n",
    "    num_boost_round=num_boost_round,\n",
    "    evals=[(dtest, \"Test\")]\n",
    ")"
   ]
  },
  {
   "cell_type": "code",
   "execution_count": 100,
   "metadata": {},
   "outputs": [],
   "source": [
    "sqrt(mean_squared_error(best_model.predict(dtest), y_test))\n",
    "best_model.save_model(\"my_model_31.53.model\")"
   ]
  },
  {
   "cell_type": "code",
   "execution_count": 104,
   "metadata": {},
   "outputs": [
    {
     "data": {
      "text/plain": [
       "[('col1', 9897),\n",
       " ('entry_page', 8048),\n",
       " ('agent_id', 6713),\n",
       " ('row_num', 6320),\n",
       " ('session_durantion', 5935),\n",
       " ('count_page', 5503),\n",
       " ('traffic_enc', 4118),\n",
       " ('combined_sin', 3808),\n",
       " ('locale_enc', 3729),\n",
       " ('hour_of_day', 3711),\n",
       " ('combined_cos', 2722),\n",
       " ('week_enc', 1466)]"
      ]
     },
     "execution_count": 104,
     "metadata": {},
     "output_type": "execute_result"
    }
   ],
   "source": [
    "sorted(best_model.get_fscore().items(), key=lambda kv: kv[1], reverse=True)"
   ]
  },
  {
   "cell_type": "code",
   "execution_count": null,
   "metadata": {
    "collapsed": true
   },
   "outputs": [],
   "source": []
  },
  {
   "cell_type": "code",
   "execution_count": 71,
   "metadata": {},
   "outputs": [
    {
     "ename": "ValueError",
     "evalue": "Input contains NaN, infinity or a value too large for dtype('float64').",
     "output_type": "error",
     "traceback": [
      "\u001b[0;31m---------------------------------------------------------------------------\u001b[0m",
      "\u001b[0;31mValueError\u001b[0m                                Traceback (most recent call last)",
      "\u001b[0;32m<ipython-input-71-99b5db3b3eff>\u001b[0m in \u001b[0;36m<module>\u001b[0;34m()\u001b[0m\n\u001b[1;32m      2\u001b[0m \u001b[0;34m\u001b[0m\u001b[0m\n\u001b[1;32m      3\u001b[0m \u001b[0mclf_linear\u001b[0m \u001b[0;34m=\u001b[0m \u001b[0mLR\u001b[0m\u001b[0;34m(\u001b[0m\u001b[0;34m)\u001b[0m\u001b[0;34m\u001b[0m\u001b[0m\n\u001b[0;32m----> 4\u001b[0;31m \u001b[0mclf_linear\u001b[0m\u001b[0;34m.\u001b[0m\u001b[0mfit\u001b[0m\u001b[0;34m(\u001b[0m\u001b[0mX_train\u001b[0m\u001b[0;34m,\u001b[0m \u001b[0my_train\u001b[0m\u001b[0;34m)\u001b[0m\u001b[0;34m\u001b[0m\u001b[0m\n\u001b[0m\u001b[1;32m      5\u001b[0m \u001b[0;34m\u001b[0m\u001b[0m\n\u001b[1;32m      6\u001b[0m \u001b[0;31m# y_predicted = clf_linear.predict(X_test)\u001b[0m\u001b[0;34m\u001b[0m\u001b[0;34m\u001b[0m\u001b[0m\n",
      "\u001b[0;32m/home/laksh/ml/local/lib/python2.7/site-packages/sklearn/linear_model/base.pyc\u001b[0m in \u001b[0;36mfit\u001b[0;34m(self, X, y, sample_weight)\u001b[0m\n\u001b[1;32m    480\u001b[0m         \u001b[0mn_jobs_\u001b[0m \u001b[0;34m=\u001b[0m \u001b[0mself\u001b[0m\u001b[0;34m.\u001b[0m\u001b[0mn_jobs\u001b[0m\u001b[0;34m\u001b[0m\u001b[0m\n\u001b[1;32m    481\u001b[0m         X, y = check_X_y(X, y, accept_sparse=['csr', 'csc', 'coo'],\n\u001b[0;32m--> 482\u001b[0;31m                          y_numeric=True, multi_output=True)\n\u001b[0m\u001b[1;32m    483\u001b[0m \u001b[0;34m\u001b[0m\u001b[0m\n\u001b[1;32m    484\u001b[0m         \u001b[0;32mif\u001b[0m \u001b[0msample_weight\u001b[0m \u001b[0;32mis\u001b[0m \u001b[0;32mnot\u001b[0m \u001b[0mNone\u001b[0m \u001b[0;32mand\u001b[0m \u001b[0mnp\u001b[0m\u001b[0;34m.\u001b[0m\u001b[0matleast_1d\u001b[0m\u001b[0;34m(\u001b[0m\u001b[0msample_weight\u001b[0m\u001b[0;34m)\u001b[0m\u001b[0;34m.\u001b[0m\u001b[0mndim\u001b[0m \u001b[0;34m>\u001b[0m \u001b[0;36m1\u001b[0m\u001b[0;34m:\u001b[0m\u001b[0;34m\u001b[0m\u001b[0m\n",
      "\u001b[0;32m/home/laksh/ml/local/lib/python2.7/site-packages/sklearn/utils/validation.pyc\u001b[0m in \u001b[0;36mcheck_X_y\u001b[0;34m(X, y, accept_sparse, dtype, order, copy, force_all_finite, ensure_2d, allow_nd, multi_output, ensure_min_samples, ensure_min_features, y_numeric, warn_on_dtype, estimator)\u001b[0m\n\u001b[1;32m    540\u001b[0m     X = check_array(X, accept_sparse, dtype, order, copy, force_all_finite,\n\u001b[1;32m    541\u001b[0m                     \u001b[0mensure_2d\u001b[0m\u001b[0;34m,\u001b[0m \u001b[0mallow_nd\u001b[0m\u001b[0;34m,\u001b[0m \u001b[0mensure_min_samples\u001b[0m\u001b[0;34m,\u001b[0m\u001b[0;34m\u001b[0m\u001b[0m\n\u001b[0;32m--> 542\u001b[0;31m                     ensure_min_features, warn_on_dtype, estimator)\n\u001b[0m\u001b[1;32m    543\u001b[0m     \u001b[0;32mif\u001b[0m \u001b[0mmulti_output\u001b[0m\u001b[0;34m:\u001b[0m\u001b[0;34m\u001b[0m\u001b[0m\n\u001b[1;32m    544\u001b[0m         y = check_array(y, 'csr', force_all_finite=True, ensure_2d=False,\n",
      "\u001b[0;32m/home/laksh/ml/local/lib/python2.7/site-packages/sklearn/utils/validation.pyc\u001b[0m in \u001b[0;36mcheck_array\u001b[0;34m(array, accept_sparse, dtype, order, copy, force_all_finite, ensure_2d, allow_nd, ensure_min_samples, ensure_min_features, warn_on_dtype, estimator)\u001b[0m\n\u001b[1;32m    420\u001b[0m                              % (array.ndim, estimator_name))\n\u001b[1;32m    421\u001b[0m         \u001b[0;32mif\u001b[0m \u001b[0mforce_all_finite\u001b[0m\u001b[0;34m:\u001b[0m\u001b[0;34m\u001b[0m\u001b[0m\n\u001b[0;32m--> 422\u001b[0;31m             \u001b[0m_assert_all_finite\u001b[0m\u001b[0;34m(\u001b[0m\u001b[0marray\u001b[0m\u001b[0;34m)\u001b[0m\u001b[0;34m\u001b[0m\u001b[0m\n\u001b[0m\u001b[1;32m    423\u001b[0m \u001b[0;34m\u001b[0m\u001b[0m\n\u001b[1;32m    424\u001b[0m     \u001b[0mshape_repr\u001b[0m \u001b[0;34m=\u001b[0m \u001b[0m_shape_repr\u001b[0m\u001b[0;34m(\u001b[0m\u001b[0marray\u001b[0m\u001b[0;34m.\u001b[0m\u001b[0mshape\u001b[0m\u001b[0;34m)\u001b[0m\u001b[0;34m\u001b[0m\u001b[0m\n",
      "\u001b[0;32m/home/laksh/ml/local/lib/python2.7/site-packages/sklearn/utils/validation.pyc\u001b[0m in \u001b[0;36m_assert_all_finite\u001b[0;34m(X)\u001b[0m\n\u001b[1;32m     41\u001b[0m             and not np.isfinite(X).all()):\n\u001b[1;32m     42\u001b[0m         raise ValueError(\"Input contains NaN, infinity\"\n\u001b[0;32m---> 43\u001b[0;31m                          \" or a value too large for %r.\" % X.dtype)\n\u001b[0m\u001b[1;32m     44\u001b[0m \u001b[0;34m\u001b[0m\u001b[0m\n\u001b[1;32m     45\u001b[0m \u001b[0;34m\u001b[0m\u001b[0m\n",
      "\u001b[0;31mValueError\u001b[0m: Input contains NaN, infinity or a value too large for dtype('float64')."
     ]
    }
   ],
   "source": [
    "X_train, X_test, y_train, y_test = train_test_split(X, y, test_size=0.33, random_state=42)\n",
    "\n",
    "clf_linear = LR()\n",
    "clf_linear.fit(X_train, y_train)\n",
    "\n",
    "# y_predicted = clf_linear.predict(X_test)\n",
    "# y_actual = y_test\n",
    "\n",
    "# mse = mean_squared_error(y_actual, y_predicted)\n",
    "# rmse = sqrt(mse)\n",
    "# print rmse\n",
    "scores = cross_val_score(clf_linear, X_train, y_train, cv=10, n_jobs=-1, scoring='neg_mean_squared_error')\n",
    "print sqrt(-np.mean(scores)), [sqrt(-x) for x in scores]"
   ]
  },
  {
   "cell_type": "code",
   "execution_count": 704,
   "metadata": {
    "collapsed": true
   },
   "outputs": [],
   "source": [
    "# X_train, X_test, y_train, y_test = train_test_split(X, y, test_size=0.33, random_state=42)\n",
    "\n",
    "# clf_logistic = LogR(solver='sag', n_jobs=-1)\n",
    "# clf_logistic.fit(X_train, y_train.values.ravel())\n",
    "\n",
    "# scores = cross_val_score(clf_logistic, X_train, y_train, cv=5)\n",
    "\n",
    "# print np.mean(scores), scores"
   ]
  },
  {
   "cell_type": "code",
   "execution_count": 705,
   "metadata": {},
   "outputs": [
    {
     "name": "stdout",
     "output_type": "stream",
     "text": [
      "34.5203494628 [35.13823911433399, 35.10587120913616, 34.99130913401764, 32.832695834867216, 33.68360098467289, 32.37407721330077, 33.6037688563602, 32.85252999911645, 31.163467533104356, 42.24594690771168]\n"
     ]
    }
   ],
   "source": [
    "X_train, X_test, y_train, y_test = train_test_split(X, y, test_size=0.33, random_state=42)\n",
    "\n",
    "clf_forest = RFR(n_jobs=-1)\n",
    "clf_forest.fit(X_train, y_train.values.ravel())\n",
    "\n",
    "scores = cross_val_score(clf_forest, X_train, y_train.values.ravel(), cv=10, n_jobs=-1, scoring='neg_mean_squared_error')\n",
    "print sqrt(-np.mean(scores)), [sqrt(-x) for x in scores] "
   ]
  },
  {
   "cell_type": "code",
   "execution_count": 706,
   "metadata": {},
   "outputs": [
    {
     "name": "stdout",
     "output_type": "stream",
     "text": [
      "col1 ---- 22.35942604195735\n",
      "session_durantion ---- 20.36329157156105\n",
      "row_num ---- 14.265051003695392\n",
      "count_page ---- 10.711785713108176\n",
      "hour_of_day ---- 5.55212454017876\n",
      "combined_sin ---- 5.518090029400267\n",
      "combined_cos ---- 4.768321395057552\n",
      "agent_id ---- 4.471803622518184\n",
      "locale_enc ---- 4.097786355519753\n",
      "week_enc ---- 3.052237022573458\n",
      "entry_page ---- 3.0158911735632343\n",
      "traffic_enc ---- 1.8241915308668248\n"
     ]
    }
   ],
   "source": [
    "rf_features = zip(X_train.columns, clf_forest.feature_importances_)\n",
    "rf_features.sort(key = lambda x: x[1], reverse= True)\n",
    "for ix, imp in rf_features:\n",
    "    print ix, '----', imp*100"
   ]
  },
  {
   "cell_type": "code",
   "execution_count": 39,
   "metadata": {},
   "outputs": [
    {
     "name": "stdout",
     "output_type": "stream",
     "text": [
      "31.9987724515 [32.47650183826232, 32.593213192397485, 32.27366166601097, 31.242504748890642, 31.471526238074542, 28.695444715744006, 31.549178901587492, 30.1209251396868, 27.788109395233818, 40.197076638735226]\n"
     ]
    }
   ],
   "source": [
    "X_train, X_test, y_train, y_test = train_test_split(X, y, test_size=0.33, random_state=42)\n",
    "\n",
    "clf_gbr = GBR()\n",
    "clf_gbr.fit(X_train, y_train.values.ravel())\n",
    "\n",
    "scores = cross_val_score(clf_gbr, X_train, y_train.values.ravel(), cv=10, n_jobs=-1, scoring='neg_mean_squared_error')\n",
    "print sqrt(-np.mean(scores)), [sqrt(-x) for x in scores]"
   ]
  },
  {
   "cell_type": "code",
   "execution_count": 40,
   "metadata": {},
   "outputs": [
    {
     "name": "stdout",
     "output_type": "stream",
     "text": [
      "session_durantion ---- 32.13337752823812\n",
      "count_page ---- 26.269998164836295\n",
      "col1 ---- 16.80445992093598\n",
      "entry_page ---- 9.804928901488896\n",
      "traffic_enc ---- 7.345856872536554\n",
      "agent_id ---- 3.1348725762400385\n",
      "row_num ---- 1.2825427554906674\n",
      "combined_cos ---- 1.1272207343587224\n",
      "combined_sin ---- 1.006756647042725\n",
      "hour_of_day ---- 0.85608594044168\n",
      "locale_enc ---- 0.23312500354086513\n",
      "week_enc ---- 0.0007749548494378182\n",
      "session_isnull ---- 0.0\n",
      "path_isnull ---- 0.0\n"
     ]
    }
   ],
   "source": [
    "features = zip(X_train.columns, clf_gbr.feature_importances_)\n",
    "features.sort(key = lambda x: x[1], reverse= True)\n",
    "for ix, imp in features:\n",
    "    print ix, '----', imp*100"
   ]
  },
  {
   "cell_type": "code",
   "execution_count": 600,
   "metadata": {},
   "outputs": [
    {
     "name": "stdout",
     "output_type": "stream",
     "text": [
      "34.4526944151 [34.9374954738846, 34.87702457578139, 34.899667338692765, 33.44326112855005, 33.78662753869747, 32.00886688266321, 33.60905935943544, 33.22080032797466, 30.855786204167362, 41.77360229647135]\n"
     ]
    }
   ],
   "source": [
    "X_train, X_test, y_train, y_test = train_test_split(X, y, test_size=0.33, random_state=42)\n",
    "\n",
    "clf_br = BaggingRegressor()\n",
    "clf_br.fit(X_train, y_train.values.ravel())\n",
    "\n",
    "scores = cross_val_score(clf_br, X_train, y_train.values.ravel(), cv=10, n_jobs=-1, scoring='neg_mean_squared_error')\n",
    "print sqrt(-np.mean(scores)), [sqrt(-x) for x in scores]"
   ]
  },
  {
   "cell_type": "code",
   "execution_count": 601,
   "metadata": {},
   "outputs": [
    {
     "name": "stdout",
     "output_type": "stream",
     "text": [
      "35.1948363587 [35.751394187676794, 36.798377159796594, 35.18732714709731, 33.759957753579016, 34.21838956377137, 31.89969727451943, 35.7672317906423, 33.750876679419555, 31.476243157205943, 42.17748540988841]\n"
     ]
    }
   ],
   "source": [
    "X_train, X_test, y_train, y_test = train_test_split(X, y, test_size=0.33, random_state=42)\n",
    "\n",
    "clf_etr = ExtraTreesRegressor()\n",
    "clf_etr.fit(X_train, y_train.values.ravel())\n",
    "\n",
    "scores = cross_val_score(clf_etr, X_train, y_train.values.ravel(), cv=10, n_jobs=-1, scoring='neg_mean_squared_error')\n",
    "print sqrt(-np.mean(scores)), [sqrt(-x) for x in scores]"
   ]
  },
  {
   "cell_type": "code",
   "execution_count": 602,
   "metadata": {},
   "outputs": [
    {
     "name": "stdout",
     "output_type": "stream",
     "text": [
      "157.004455767 [259.22215978620676, 104.67547901615235, 162.53890716060098, 43.06877754271152, 129.71158653575432]\n"
     ]
    }
   ],
   "source": [
    "X_train, X_test, y_train, y_test = train_test_split(X, y, test_size=0.33, random_state=42)\n",
    "\n",
    "clf_abr = AdaBoostRegressor()\n",
    "clf_abr.fit(X_train, y_train.values.ravel())\n",
    "\n",
    "scores = cross_val_score(clf_abr, X_train, y_train.values.ravel(), cv=5, n_jobs=-1, scoring='neg_mean_squared_error')\n",
    "print sqrt(-np.mean(scores)), [sqrt(-x) for x in scores]"
   ]
  },
  {
   "cell_type": "code",
   "execution_count": 603,
   "metadata": {},
   "outputs": [
    {
     "data": {
      "text/plain": [
       "array([0.08572466, 0.22683047, 0.00483487, 0.05057294, 0.07722498,\n",
       "       0.36773094, 0.01069978, 0.03925814, 0.0078085 , 0.01197728,\n",
       "       0.1102905 , 0.00704696])"
      ]
     },
     "execution_count": 603,
     "metadata": {},
     "output_type": "execute_result"
    }
   ],
   "source": [
    "clf_abr.feature_importances_"
   ]
  },
  {
   "cell_type": "code",
   "execution_count": null,
   "metadata": {
    "collapsed": true
   },
   "outputs": [],
   "source": []
  },
  {
   "cell_type": "code",
   "execution_count": null,
   "metadata": {
    "collapsed": true
   },
   "outputs": [],
   "source": [
    "\n"
   ]
  }
 ],
 "metadata": {
  "kernelspec": {
   "display_name": "Python 3",
   "language": "python",
   "name": "python3"
  },
  "language_info": {
   "codemirror_mode": {
    "name": "ipython",
    "version": 3
   },
   "file_extension": ".py",
   "mimetype": "text/x-python",
   "name": "python",
   "nbconvert_exporter": "python",
   "pygments_lexer": "ipython3",
   "version": "3.5.2"
  }
 },
 "nbformat": 4,
 "nbformat_minor": 2
}
